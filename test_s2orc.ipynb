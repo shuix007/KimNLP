{
 "cells": [
  {
   "cell_type": "code",
   "execution_count": 1,
   "metadata": {},
   "outputs": [],
   "source": [
    "import os\n",
    "import time\n",
    "import json\n",
    "import requests\n",
    "\n",
    "from tqdm import tqdm\n",
    "from ast import literal_eval\n",
    "import numpy as np\n",
    "import pandas as pd"
   ]
  },
  {
   "cell_type": "code",
   "execution_count": 2,
   "metadata": {},
   "outputs": [],
   "source": [
    "def merge_annotations(x, y):\n",
    "    if type(y) == str:\n",
    "        return y.strip().lower()\n",
    "    return x.strip().lower()\n",
    "\n",
    "def load_kim_dataset(data_filename = '/export/scratch/zeren/KimNLP/RawData/dec_12_annotations.tsv'):\n",
    "    data = pd.read_csv(data_filename, sep='\\t')\n",
    "\n",
    "    data['annotation'] = data.apply(lambda x: merge_annotations(x['previous annotation'], x['new annotation']), axis=1)\n",
    "    # columns = ['cited title', 'cited abstract', 'citing title', 'citing abstract', 'citation context', 'annotation']\n",
    "    # data = data[columns]\n",
    "    data = data.rename(columns={\n",
    "        'cited title': 'cited_title', \n",
    "        'cited abstract': 'cited_abstract', \n",
    "        'citing title': 'citing_title', \n",
    "        'citing abstract': 'citing_abstract', \n",
    "        'citation context': 'citation_context', \n",
    "        'annotation': 'label'\n",
    "    }).reset_index().drop(columns='index')\n",
    "    data = data.fillna('')\n",
    "    data.head()\n",
    "    return data"
   ]
  },
  {
   "cell_type": "code",
   "execution_count": 5,
   "metadata": {},
   "outputs": [],
   "source": [
    "data = load_kim_dataset()\n",
    "# data.head()\n",
    "dois = list(set(data['cited doi'].tolist() + data['citing doi'].tolist()))\n",
    "# data[data['citing doi'] == 'https://doi.org/none_22851346']['citing_title'].tolist()"
   ]
  },
  {
   "cell_type": "code",
   "execution_count": 7,
   "metadata": {},
   "outputs": [
    {
     "data": {
      "text/plain": [
       "716"
      ]
     },
     "execution_count": 7,
     "metadata": {},
     "output_type": "execute_result"
    }
   ],
   "source": [
    "len(dois)"
   ]
  },
  {
   "cell_type": "code",
   "execution_count": 10,
   "metadata": {},
   "outputs": [
    {
     "name": "stdout",
     "output_type": "stream",
     "text": [
      "https://doi.org/none_28230327\n",
      "https://doi.org/none_13455990\n",
      "https://doi.org/none_8217700\n",
      "https://doi.org/none_26526364\n",
      "https://doi.org/none_21640901\n",
      "https://doi.org/none_1153070\n",
      "https://doi.org/none_15244259\n",
      "https://doi.org/none_20146078\n",
      "https://doi.org/none_1789293\n",
      "https://doi.org/none_5285167\n",
      "https://doi.org/none_22851346\n",
      "https://doi.org/none_21795708\n",
      "https://doi.org/none_13945976\n",
      "https://doi.org/none_25411478\n",
      "https://doi.org/none_15360911\n",
      "https://doi.org/none_1920016\n",
      "https://doi.org/none_28303267\n",
      "https://doi.org/none_18529447\n",
      "https://doi.org/none_23942303\n",
      "https://doi.org/none_28657560\n",
      "https://doi.org/none_9096290\n",
      "https://doi.org/none_17436963\n",
      "https://doi.org/none_28160190\n",
      "https://doi.org/none_8051345\n",
      "https://doi.org/none_24264187\n",
      "https://doi.org/none_632799\n",
      "https://doi.org/none_17936269\n",
      "https://doi.org/none_21013761\n",
      "https://doi.org/none_8465186\n",
      "https://doi.org/none_3335766\n",
      "https://doi.org/none_20756763\n",
      "https://doi.org/none_27723720\n",
      "https://doi.org/none_28182591\n",
      "https://doi.org/none_22304794\n",
      "https://doi.org/none_27349239\n",
      "https://doi.org/none_19593622\n",
      "https://doi.org/none_20376022\n",
      "https://doi.org/none_9108950\n",
      "https://doi.org/none_25695403\n",
      "https://doi.org/none_12042695\n",
      "https://doi.org/none_26172483\n",
      "https://doi.org/none_18350768\n",
      "https://doi.org/none_3387763\n",
      "https://doi.org/none_10112067\n",
      "https://doi.org/none_4818846\n",
      "https://doi.org/none_21683541\n"
     ]
    }
   ],
   "source": [
    "for d in dois:\n",
    "    if 'none' in d:\n",
    "        print(d)"
   ]
  },
  {
   "cell_type": "code",
   "execution_count": 19,
   "metadata": {},
   "outputs": [
    {
     "data": {
      "text/plain": [
       "'10.1021/acs.jpclett.5b02080'"
      ]
     },
     "execution_count": 19,
     "metadata": {},
     "output_type": "execute_result"
    }
   ],
   "source": [
    "dois[0][16:]"
   ]
  },
  {
   "cell_type": "code",
   "execution_count": 20,
   "metadata": {},
   "outputs": [
    {
     "name": "stderr",
     "output_type": "stream",
     "text": [
      "  1%|▏         | 10/716 [00:03<03:34,  3.29it/s]"
     ]
    },
    {
     "name": "stdout",
     "output_type": "stream",
     "text": [
      "https://doi.org/none_8051345\n"
     ]
    },
    {
     "name": "stderr",
     "output_type": "stream",
     "text": [
      "  5%|▍         | 33/716 [00:10<03:23,  3.36it/s]"
     ]
    },
    {
     "name": "stdout",
     "output_type": "stream",
     "text": [
      "https://doi.org/none_22304794\n"
     ]
    },
    {
     "name": "stderr",
     "output_type": "stream",
     "text": [
      "  6%|▌         | 41/716 [00:13<03:07,  3.60it/s]"
     ]
    },
    {
     "name": "stdout",
     "output_type": "stream",
     "text": [
      "https://doi.org/none_22851346\n"
     ]
    },
    {
     "name": "stderr",
     "output_type": "stream",
     "text": [
      "  8%|▊         | 58/716 [00:18<02:50,  3.85it/s]"
     ]
    },
    {
     "name": "stdout",
     "output_type": "stream",
     "text": [
      "https://doi.org/none_28303267\n"
     ]
    },
    {
     "name": "stderr",
     "output_type": "stream",
     "text": [
      "  9%|▉         | 67/716 [00:20<03:00,  3.60it/s]"
     ]
    },
    {
     "name": "stdout",
     "output_type": "stream",
     "text": [
      "https://doi.org/none_17436963\n"
     ]
    },
    {
     "name": "stderr",
     "output_type": "stream",
     "text": [
      " 10%|▉         | 71/716 [00:22<03:01,  3.56it/s]"
     ]
    },
    {
     "name": "stdout",
     "output_type": "stream",
     "text": [
      "https://doi.org/none_3335766\n"
     ]
    },
    {
     "name": "stderr",
     "output_type": "stream",
     "text": [
      " 12%|█▏        | 88/716 [00:27<02:59,  3.50it/s]"
     ]
    },
    {
     "name": "stdout",
     "output_type": "stream",
     "text": [
      "https://doi.org/none_28230327\n"
     ]
    },
    {
     "name": "stderr",
     "output_type": "stream",
     "text": [
      " 15%|█▍        | 106/716 [00:32<02:48,  3.63it/s]"
     ]
    },
    {
     "name": "stdout",
     "output_type": "stream",
     "text": [
      "https://doi.org/none_13455990\n"
     ]
    },
    {
     "name": "stderr",
     "output_type": "stream",
     "text": [
      " 18%|█▊        | 126/716 [00:39<02:39,  3.70it/s]"
     ]
    },
    {
     "name": "stdout",
     "output_type": "stream",
     "text": [
      "https://doi.org/none_8217700\n"
     ]
    },
    {
     "name": "stderr",
     "output_type": "stream",
     "text": [
      " 19%|█▉        | 135/716 [00:42<03:02,  3.19it/s]"
     ]
    },
    {
     "name": "stdout",
     "output_type": "stream",
     "text": [
      "https://doi.org/none_26526364\n"
     ]
    },
    {
     "name": "stderr",
     "output_type": "stream",
     "text": [
      " 28%|██▊       | 203/716 [01:04<02:36,  3.27it/s]"
     ]
    },
    {
     "name": "stdout",
     "output_type": "stream",
     "text": [
      "https://doi.org/none_27723720\n"
     ]
    },
    {
     "name": "stderr",
     "output_type": "stream",
     "text": [
      " 29%|██▊       | 205/716 [01:05<02:21,  3.61it/s]"
     ]
    },
    {
     "name": "stdout",
     "output_type": "stream",
     "text": [
      "https://doi.org/10.1080/14786435.2018.1480838\n"
     ]
    },
    {
     "name": "stderr",
     "output_type": "stream",
     "text": [
      " 29%|██▉       | 207/716 [01:05<02:32,  3.34it/s]"
     ]
    },
    {
     "name": "stdout",
     "output_type": "stream",
     "text": [
      "https://doi.org/none_28160190\n"
     ]
    },
    {
     "name": "stderr",
     "output_type": "stream",
     "text": [
      " 29%|██▉       | 209/716 [01:06<02:11,  3.86it/s]"
     ]
    },
    {
     "name": "stdout",
     "output_type": "stream",
     "text": [
      "https://doi.org/10.1107/s0108767318095934\n"
     ]
    },
    {
     "name": "stderr",
     "output_type": "stream",
     "text": [
      " 29%|██▉       | 210/716 [01:06<02:21,  3.56it/s]"
     ]
    },
    {
     "name": "stdout",
     "output_type": "stream",
     "text": [
      "https://doi.org/10.1186/1556-276x-6-291\n"
     ]
    },
    {
     "name": "stderr",
     "output_type": "stream",
     "text": [
      " 30%|███       | 215/716 [01:07<01:34,  5.28it/s]"
     ]
    },
    {
     "name": "stdout",
     "output_type": "stream",
     "text": [
      "https://doi.org/10.1016/j.commatsci.2017.03.028\n",
      "https://doi.org/10.3390/ma12050750\n"
     ]
    },
    {
     "name": "stderr",
     "output_type": "stream",
     "text": [
      " 30%|███       | 217/716 [01:07<01:34,  5.30it/s]"
     ]
    },
    {
     "name": "stdout",
     "output_type": "stream",
     "text": [
      "https://doi.org/10.1021/jp5030558\n"
     ]
    },
    {
     "name": "stderr",
     "output_type": "stream",
     "text": [
      " 31%|███       | 220/716 [01:08<01:36,  5.15it/s]"
     ]
    },
    {
     "name": "stdout",
     "output_type": "stream",
     "text": [
      "https://doi.org/10.1155/2013/965282\n",
      "https://doi.org/10.1186/s11671-017-2412-2\n"
     ]
    },
    {
     "name": "stderr",
     "output_type": "stream",
     "text": [
      " 31%|███       | 221/716 [01:08<01:23,  5.93it/s]"
     ]
    },
    {
     "name": "stdout",
     "output_type": "stream",
     "text": [
      "https://doi.org/10.1007/s13632-012-0008-x\n"
     ]
    },
    {
     "name": "stderr",
     "output_type": "stream",
     "text": [
      " 31%|███▏      | 225/716 [01:09<01:55,  4.24it/s]"
     ]
    },
    {
     "name": "stdout",
     "output_type": "stream",
     "text": [
      "https://doi.org/10.1016/j.carbon.2016.03.007\n",
      "https://doi.org/none_15244259\n"
     ]
    },
    {
     "name": "stderr",
     "output_type": "stream",
     "text": [
      " 32%|███▏      | 226/716 [01:09<01:48,  4.52it/s]"
     ]
    },
    {
     "name": "stdout",
     "output_type": "stream",
     "text": [
      "https://doi.org/10.1186/1556-276x-7-148\n"
     ]
    },
    {
     "name": "stderr",
     "output_type": "stream",
     "text": [
      " 32%|███▏      | 228/716 [01:10<02:03,  3.96it/s]"
     ]
    },
    {
     "name": "stdout",
     "output_type": "stream",
     "text": [
      "https://doi.org/none_21640901\n"
     ]
    },
    {
     "name": "stderr",
     "output_type": "stream",
     "text": [
      " 32%|███▏      | 231/716 [01:11<01:49,  4.42it/s]"
     ]
    },
    {
     "name": "stdout",
     "output_type": "stream",
     "text": [
      "https://doi.org/10.1016/j.jnucmat.2014.12.111\n",
      "https://doi.org/10.1103/physrevb.54.8398\n"
     ]
    },
    {
     "name": "stderr",
     "output_type": "stream",
     "text": [
      " 33%|███▎      | 233/716 [01:11<01:26,  5.57it/s]"
     ]
    },
    {
     "name": "stdout",
     "output_type": "stream",
     "text": [
      "https://doi.org/10.1021/acsomega.7b00732\n",
      "https://doi.org/10.1007/s12274-009-9078-8\n",
      "https://doi.org/10.1021/acs.jpcc.6b10908\n"
     ]
    },
    {
     "name": "stderr",
     "output_type": "stream",
     "text": [
      " 33%|███▎      | 236/716 [01:11<01:20,  5.95it/s]"
     ]
    },
    {
     "name": "stdout",
     "output_type": "stream",
     "text": [
      "https://doi.org/10.1016/j.actamat.2015.07.055\n",
      "https://doi.org/10.1103/physrevb.95.045418\n"
     ]
    },
    {
     "name": "stderr",
     "output_type": "stream",
     "text": [
      " 33%|███▎      | 238/716 [01:12<01:14,  6.43it/s]"
     ]
    },
    {
     "name": "stdout",
     "output_type": "stream",
     "text": [
      "https://doi.org/10.1016/j.jallcom.2015.09.149\n",
      "https://doi.org/10.1016/j.commatsci.2018.02.020\n"
     ]
    },
    {
     "name": "stderr",
     "output_type": "stream",
     "text": [
      " 34%|███▎      | 241/716 [01:12<01:04,  7.31it/s]"
     ]
    },
    {
     "name": "stdout",
     "output_type": "stream",
     "text": [
      "https://doi.org/none_20376022\n",
      "https://doi.org/10.1016/j.physe.2017.06.012\n",
      "https://doi.org/10.1007/s00214-015-1681-z\n"
     ]
    },
    {
     "name": "stderr",
     "output_type": "stream",
     "text": [
      " 34%|███▍      | 243/716 [01:12<01:09,  6.84it/s]"
     ]
    },
    {
     "name": "stdout",
     "output_type": "stream",
     "text": [
      "https://doi.org/none_632799\n",
      "https://doi.org/10.1088/0965-0393/19/8/083001\n"
     ]
    },
    {
     "name": "stderr",
     "output_type": "stream",
     "text": [
      " 34%|███▍      | 245/716 [01:13<01:06,  7.08it/s]"
     ]
    },
    {
     "name": "stdout",
     "output_type": "stream",
     "text": [
      "https://doi.org/10.1021/acsomega.9b00589\n",
      "https://doi.org/10.1051/m2an:2007024\n"
     ]
    },
    {
     "name": "stderr",
     "output_type": "stream",
     "text": [
      " 34%|███▍      | 247/716 [01:13<00:57,  8.19it/s]"
     ]
    },
    {
     "name": "stdout",
     "output_type": "stream",
     "text": [
      "https://doi.org/10.1186/s40199-014-0085-2\n",
      "https://doi.org/10.1016/j.physrep.2014.03.003\n"
     ]
    },
    {
     "name": "stderr",
     "output_type": "stream",
     "text": [
      " 35%|███▍      | 249/716 [01:13<01:11,  6.50it/s]"
     ]
    },
    {
     "name": "stdout",
     "output_type": "stream",
     "text": [
      "https://doi.org/10.1038/srep43785\n",
      "https://doi.org/10.1073/pnas.1510342112\n"
     ]
    },
    {
     "name": "stderr",
     "output_type": "stream",
     "text": [
      " 35%|███▌      | 251/716 [01:14<01:07,  6.85it/s]"
     ]
    },
    {
     "name": "stdout",
     "output_type": "stream",
     "text": [
      "https://doi.org/10.1103/physreve.84.061122\n",
      "https://doi.org/10.1016/j.physe.2017.03.005\n"
     ]
    },
    {
     "name": "stderr",
     "output_type": "stream",
     "text": [
      " 35%|███▌      | 253/716 [01:14<00:57,  8.10it/s]"
     ]
    },
    {
     "name": "stdout",
     "output_type": "stream",
     "text": [
      "https://doi.org/10.1038/s41524-018-0098-3\n",
      "https://doi.org/10.1103/physrevb.41.12197\n"
     ]
    },
    {
     "name": "stderr",
     "output_type": "stream",
     "text": [
      " 36%|███▌      | 255/716 [01:14<01:11,  6.43it/s]"
     ]
    },
    {
     "name": "stdout",
     "output_type": "stream",
     "text": [
      "https://doi.org/10.1063/1.3460127\n",
      "https://doi.org/10.1016/j.carbon.2015.02.075\n"
     ]
    },
    {
     "name": "stderr",
     "output_type": "stream",
     "text": [
      " 36%|███▌      | 257/716 [01:14<01:08,  6.70it/s]"
     ]
    },
    {
     "name": "stdout",
     "output_type": "stream",
     "text": [
      "https://doi.org/10.1109/tnano.2019.2935876\n",
      "https://doi.org/10.1016/j.physrep.2018.03.001\n"
     ]
    },
    {
     "name": "stderr",
     "output_type": "stream",
     "text": [
      " 36%|███▌      | 258/716 [01:15<01:13,  6.22it/s]"
     ]
    },
    {
     "name": "stdout",
     "output_type": "stream",
     "text": [
      "https://doi.org/10.16984/saufenbilder.489467\n",
      "https://doi.org/10.1016/j.actamat.2018.09.052\n"
     ]
    },
    {
     "name": "stderr",
     "output_type": "stream",
     "text": [
      " 36%|███▋      | 261/716 [01:15<01:12,  6.31it/s]"
     ]
    },
    {
     "name": "stdout",
     "output_type": "stream",
     "text": [
      "https://doi.org/10.7454/mss.v22i3.8512\n",
      "https://doi.org/10.1260/1750-9548.7.2.95\n"
     ]
    },
    {
     "name": "stderr",
     "output_type": "stream",
     "text": [
      " 37%|███▋      | 262/716 [01:15<01:06,  6.85it/s]"
     ]
    },
    {
     "name": "stdout",
     "output_type": "stream",
     "text": [
      "https://doi.org/10.3390/met8060430\n",
      "https://doi.org/10.3390/ma12020217\n"
     ]
    },
    {
     "name": "stderr",
     "output_type": "stream",
     "text": [
      " 37%|███▋      | 265/716 [01:16<00:59,  7.53it/s]"
     ]
    },
    {
     "name": "stdout",
     "output_type": "stream",
     "text": [
      "https://doi.org/10.1016/j.jmps.2007.09.005\n",
      "https://doi.org/10.1021/jp101332k\n"
     ]
    },
    {
     "name": "stderr",
     "output_type": "stream",
     "text": [
      " 37%|███▋      | 268/716 [01:16<00:56,  7.96it/s]"
     ]
    },
    {
     "name": "stdout",
     "output_type": "stream",
     "text": [
      "https://doi.org/10.1038/srep34074\n",
      "https://doi.org/10.1103/physrevb.43.12571\n",
      "https://doi.org/10.1186/s40759-019-0042-3\n"
     ]
    },
    {
     "name": "stderr",
     "output_type": "stream",
     "text": [
      " 38%|███▊      | 270/716 [01:16<00:51,  8.66it/s]"
     ]
    },
    {
     "name": "stdout",
     "output_type": "stream",
     "text": [
      "https://doi.org/10.1073/pnas.1505788112\n",
      "https://doi.org/10.3390/polym10111289\n"
     ]
    },
    {
     "name": "stderr",
     "output_type": "stream",
     "text": [
      " 38%|███▊      | 272/716 [01:16<00:57,  7.67it/s]"
     ]
    },
    {
     "name": "stdout",
     "output_type": "stream",
     "text": [
      "https://doi.org/10.1080/01418619508244468\n",
      "https://doi.org/10.3390/ma12152354\n"
     ]
    },
    {
     "name": "stderr",
     "output_type": "stream",
     "text": [
      " 38%|███▊      | 273/716 [01:17<00:54,  8.10it/s]"
     ]
    },
    {
     "name": "stdout",
     "output_type": "stream",
     "text": [
      "https://doi.org/10.1016/j.actamat.2015.08.052\n",
      "https://doi.org/10.3390/nano8100848\n"
     ]
    },
    {
     "name": "stderr",
     "output_type": "stream",
     "text": [
      " 39%|███▊      | 276/716 [01:17<01:02,  7.00it/s]"
     ]
    },
    {
     "name": "stdout",
     "output_type": "stream",
     "text": [
      "https://doi.org/10.2207/qjjws.23.509\n",
      "https://doi.org/10.1088/0965-0393/21/8/085004\n"
     ]
    },
    {
     "name": "stderr",
     "output_type": "stream",
     "text": [
      " 39%|███▉      | 278/716 [01:17<01:02,  7.02it/s]"
     ]
    },
    {
     "name": "stdout",
     "output_type": "stream",
     "text": [
      "https://doi.org/none_25411478\n",
      "https://doi.org/10.2991/icamcs-16.2016.64\n"
     ]
    },
    {
     "name": "stderr",
     "output_type": "stream",
     "text": [
      " 39%|███▉      | 280/716 [01:18<01:00,  7.16it/s]"
     ]
    },
    {
     "name": "stdout",
     "output_type": "stream",
     "text": [
      "https://doi.org/10.1016/j.carbon.2016.05.009\n",
      "https://doi.org/none_3387763\n"
     ]
    },
    {
     "name": "stderr",
     "output_type": "stream",
     "text": [
      " 39%|███▉      | 282/716 [01:18<01:02,  6.96it/s]"
     ]
    },
    {
     "name": "stdout",
     "output_type": "stream",
     "text": [
      "https://doi.org/10.3390/en10122010\n",
      "https://doi.org/10.1115/1.4006750\n"
     ]
    },
    {
     "name": "stderr",
     "output_type": "stream",
     "text": [
      " 40%|███▉      | 284/716 [01:18<01:00,  7.11it/s]"
     ]
    },
    {
     "name": "stdout",
     "output_type": "stream",
     "text": [
      "https://doi.org/10.1103/physrevb.58.2539\n",
      "https://doi.org/10.1088/1367-2630/11/12/123017\n"
     ]
    },
    {
     "name": "stderr",
     "output_type": "stream",
     "text": [
      " 40%|███▉      | 286/716 [01:18<00:52,  8.22it/s]"
     ]
    },
    {
     "name": "stdout",
     "output_type": "stream",
     "text": [
      "https://doi.org/10.20944/preprints201906.0279.v1\n",
      "https://doi.org/10.1615/intjmultcompeng.2011002514\n"
     ]
    },
    {
     "name": "stderr",
     "output_type": "stream",
     "text": [
      " 40%|████      | 288/716 [01:19<01:04,  6.63it/s]"
     ]
    },
    {
     "name": "stdout",
     "output_type": "stream",
     "text": [
      "https://doi.org/10.1038/srep06399\n",
      "https://doi.org/10.1073/pnas.0806174105\n"
     ]
    },
    {
     "name": "stderr",
     "output_type": "stream",
     "text": [
      " 40%|████      | 289/716 [01:19<01:08,  6.23it/s]"
     ]
    },
    {
     "name": "stdout",
     "output_type": "stream",
     "text": [
      "https://doi.org/10.1016/j.cpc.2016.04.001\n",
      "https://doi.org/10.1016/j.mprp.2018.01.003\n"
     ]
    },
    {
     "name": "stderr",
     "output_type": "stream",
     "text": [
      " 41%|████      | 292/716 [01:19<00:59,  7.14it/s]"
     ]
    },
    {
     "name": "stdout",
     "output_type": "stream",
     "text": [
      "https://doi.org/10.1016/j.actamat.2017.08.058\n",
      "https://doi.org/10.1186/1556-276x-8-490\n"
     ]
    },
    {
     "name": "stderr",
     "output_type": "stream",
     "text": [
      " 41%|████      | 294/716 [01:20<01:09,  6.11it/s]"
     ]
    },
    {
     "name": "stdout",
     "output_type": "stream",
     "text": [
      "https://doi.org/10.1007/s00161-009-0109-1\n",
      "https://doi.org/10.3390/met7100438\n"
     ]
    },
    {
     "name": "stderr",
     "output_type": "stream",
     "text": [
      " 41%|████▏     | 296/716 [01:20<00:56,  7.46it/s]"
     ]
    },
    {
     "name": "stdout",
     "output_type": "stream",
     "text": [
      "https://doi.org/none_15360911\n",
      "https://doi.org/10.1088/0022-3727/47/22/224007\n"
     ]
    },
    {
     "name": "stderr",
     "output_type": "stream",
     "text": [
      " 42%|████▏     | 298/716 [01:20<00:57,  7.32it/s]"
     ]
    },
    {
     "name": "stdout",
     "output_type": "stream",
     "text": [
      "https://doi.org/10.1088/0965-0393/21/3/035011\n",
      "https://doi.org/10.1016/j.msea.2014.12.075\n"
     ]
    },
    {
     "name": "stderr",
     "output_type": "stream",
     "text": [
      " 42%|████▏     | 299/716 [01:20<00:52,  7.92it/s]"
     ]
    },
    {
     "name": "stdout",
     "output_type": "stream",
     "text": [
      "https://doi.org/10.1007/s10853-015-8961-9\n",
      "https://doi.org/10.3390/ma12132076\n"
     ]
    },
    {
     "name": "stderr",
     "output_type": "stream",
     "text": [
      " 42%|████▏     | 302/716 [01:21<00:54,  7.53it/s]"
     ]
    },
    {
     "name": "stdout",
     "output_type": "stream",
     "text": [
      "https://doi.org/10.3390/nano9081107\n",
      "https://doi.org/10.1103/physrevb.95.214302\n"
     ]
    },
    {
     "name": "stderr",
     "output_type": "stream",
     "text": [
      " 42%|████▏     | 304/716 [01:21<00:48,  8.52it/s]"
     ]
    },
    {
     "name": "stdout",
     "output_type": "stream",
     "text": [
      "https://doi.org/none_1153070\n",
      "https://doi.org/10.1038/npjcompumats.2015.11\n",
      "https://doi.org/10.1186/1556-276x-6-481\n"
     ]
    },
    {
     "name": "stderr",
     "output_type": "stream",
     "text": [
      " 43%|████▎     | 307/716 [01:21<00:56,  7.27it/s]"
     ]
    },
    {
     "name": "stdout",
     "output_type": "stream",
     "text": [
      "https://doi.org/10.1073/pnas.1310036110\n",
      "https://doi.org/10.1016/j.commatsci.2016.12.016\n"
     ]
    },
    {
     "name": "stderr",
     "output_type": "stream",
     "text": [
      " 43%|████▎     | 309/716 [01:22<01:03,  6.44it/s]"
     ]
    },
    {
     "name": "stdout",
     "output_type": "stream",
     "text": [
      "https://doi.org/10.3390/cryst7020046\n",
      "https://doi.org/10.1080/14686996.2017.1422224\n"
     ]
    },
    {
     "name": "stderr",
     "output_type": "stream",
     "text": [
      " 43%|████▎     | 311/716 [01:22<00:52,  7.70it/s]"
     ]
    },
    {
     "name": "stdout",
     "output_type": "stream",
     "text": [
      "https://doi.org/10.1103/physrevb.89.054310\n",
      "https://doi.org/10.1016/j.jallcom.2015.03.173\n",
      "https://doi.org/10.1080/01418619208247999\n"
     ]
    },
    {
     "name": "stderr",
     "output_type": "stream",
     "text": [
      " 44%|████▍     | 314/716 [01:22<00:46,  8.70it/s]"
     ]
    },
    {
     "name": "stdout",
     "output_type": "stream",
     "text": [
      "https://doi.org/10.3390/ma12091477\n",
      "https://doi.org/10.1177/2516598418765359\n"
     ]
    },
    {
     "name": "stderr",
     "output_type": "stream",
     "text": [
      " 44%|████▍     | 317/716 [01:23<00:47,  8.45it/s]"
     ]
    },
    {
     "name": "stdout",
     "output_type": "stream",
     "text": [
      "https://doi.org/10.5539/jmsr.v4n3p15\n",
      "https://doi.org/10.5772/intechopen.68507\n",
      "https://doi.org/10.1007/s10853-017-1706-1\n"
     ]
    },
    {
     "name": "stderr",
     "output_type": "stream",
     "text": [
      " 45%|████▍     | 319/716 [01:23<00:52,  7.54it/s]"
     ]
    },
    {
     "name": "stdout",
     "output_type": "stream",
     "text": [
      "https://doi.org/10.3390/cryst6070077\n",
      "https://doi.org/10.1088/0965-0393/23/7/074002\n"
     ]
    },
    {
     "name": "stderr",
     "output_type": "stream",
     "text": [
      " 45%|████▍     | 321/716 [01:23<00:47,  8.39it/s]"
     ]
    },
    {
     "name": "stdout",
     "output_type": "stream",
     "text": [
      "https://doi.org/10.1016/j.actamat.2016.07.053\n",
      "https://doi.org/10.1088/0957-4484/23/2/025703\n"
     ]
    },
    {
     "name": "stderr",
     "output_type": "stream",
     "text": [
      " 45%|████▌     | 323/716 [01:23<00:50,  7.81it/s]"
     ]
    },
    {
     "name": "stdout",
     "output_type": "stream",
     "text": [
      "https://doi.org/10.1088/0034-4885/77/4/046501\n",
      "https://doi.org/10.1039/c7cp01268c\n"
     ]
    },
    {
     "name": "stderr",
     "output_type": "stream",
     "text": [
      " 46%|████▌     | 326/716 [01:24<00:54,  7.18it/s]"
     ]
    },
    {
     "name": "stdout",
     "output_type": "stream",
     "text": [
      "https://doi.org/10.1186/s40192-015-0040-1\n",
      "https://doi.org/10.1038/srep03157\n",
      "https://doi.org/none_1789293\n"
     ]
    },
    {
     "name": "stderr",
     "output_type": "stream",
     "text": [
      " 46%|████▌     | 328/716 [01:24<00:53,  7.23it/s]"
     ]
    },
    {
     "name": "stdout",
     "output_type": "stream",
     "text": [
      "https://doi.org/10.1016/j.commatsci.2009.09.026\n",
      "https://doi.org/10.2478/s13531-013-0116-7\n"
     ]
    },
    {
     "name": "stderr",
     "output_type": "stream",
     "text": [
      " 46%|████▌     | 329/716 [01:24<01:00,  6.42it/s]"
     ]
    },
    {
     "name": "stdout",
     "output_type": "stream",
     "text": [
      "https://doi.org/10.1021/la047545h\n",
      "https://doi.org/none_10112067\n"
     ]
    },
    {
     "name": "stderr",
     "output_type": "stream",
     "text": [
      " 46%|████▋     | 332/716 [01:25<00:53,  7.22it/s]"
     ]
    },
    {
     "name": "stdout",
     "output_type": "stream",
     "text": [
      "https://doi.org/10.1016/j.actamat.2015.11.046\n",
      "https://doi.org/10.1038/s41598-019-38941-9\n"
     ]
    },
    {
     "name": "stderr",
     "output_type": "stream",
     "text": [
      " 47%|████▋     | 334/716 [01:25<00:52,  7.31it/s]"
     ]
    },
    {
     "name": "stdout",
     "output_type": "stream",
     "text": [
      "https://doi.org/10.1021/acsnano.8b04050\n",
      "https://doi.org/none_12042695\n"
     ]
    },
    {
     "name": "stderr",
     "output_type": "stream",
     "text": [
      " 47%|████▋     | 338/716 [01:25<00:41,  9.07it/s]"
     ]
    },
    {
     "name": "stdout",
     "output_type": "stream",
     "text": [
      "https://doi.org/none_18529447\n",
      "https://doi.org/10.1016/j.jmps.2015.07.001\n",
      "https://doi.org/10.1103/physrevb.36.6434\n",
      "https://doi.org/10.1103/physrevb.99.205134\n"
     ]
    },
    {
     "name": "stderr",
     "output_type": "stream",
     "text": [
      " 47%|████▋     | 340/716 [01:26<00:39,  9.44it/s]"
     ]
    },
    {
     "name": "stdout",
     "output_type": "stream",
     "text": [
      "https://doi.org/none_25695403\n",
      "https://doi.org/10.1016/j.carbon.2015.11.012\n"
     ]
    },
    {
     "name": "stderr",
     "output_type": "stream",
     "text": [
      " 48%|████▊     | 342/716 [01:26<00:40,  9.33it/s]"
     ]
    },
    {
     "name": "stdout",
     "output_type": "stream",
     "text": [
      "https://doi.org/none_8465186\n",
      "https://doi.org/10.1038/ncomms7035\n",
      "https://doi.org/10.1016/j.fluid.2019.05.008\n"
     ]
    },
    {
     "name": "stderr",
     "output_type": "stream",
     "text": [
      " 48%|████▊     | 345/716 [01:26<00:50,  7.28it/s]"
     ]
    },
    {
     "name": "stdout",
     "output_type": "stream",
     "text": [
      "https://doi.org/10.1088/0953-8984/19/32/326220\n",
      "https://doi.org/10.1038/srep12923\n"
     ]
    },
    {
     "name": "stderr",
     "output_type": "stream",
     "text": [
      " 48%|████▊     | 347/716 [01:27<00:52,  7.03it/s]"
     ]
    },
    {
     "name": "stdout",
     "output_type": "stream",
     "text": [
      "https://doi.org/10.1088/1361-648x/aae09f\n",
      "https://doi.org/10.1016/j.commatsci.2014.12.036\n"
     ]
    },
    {
     "name": "stderr",
     "output_type": "stream",
     "text": [
      " 49%|████▊     | 349/716 [01:27<00:45,  8.01it/s]"
     ]
    },
    {
     "name": "stdout",
     "output_type": "stream",
     "text": [
      "https://doi.org/10.1073/pnas.1802300115\n",
      "https://doi.org/10.1021/jp709896w\n"
     ]
    },
    {
     "name": "stderr",
     "output_type": "stream",
     "text": [
      " 49%|████▉     | 350/716 [01:27<00:52,  6.99it/s]"
     ]
    },
    {
     "name": "stdout",
     "output_type": "stream",
     "text": [
      "https://doi.org/10.3390/molecules24091693\n",
      "https://doi.org/10.1098/rspa.2016.0093\n"
     ]
    },
    {
     "name": "stderr",
     "output_type": "stream",
     "text": [
      " 49%|████▉     | 353/716 [01:27<00:48,  7.48it/s]"
     ]
    },
    {
     "name": "stdout",
     "output_type": "stream",
     "text": [
      "https://doi.org/10.1515/phys-2016-0040\n",
      "https://doi.org/10.1002/wcms.1363\n"
     ]
    },
    {
     "name": "stderr",
     "output_type": "stream",
     "text": [
      " 50%|████▉     | 355/716 [01:28<00:56,  6.43it/s]"
     ]
    },
    {
     "name": "stdout",
     "output_type": "stream",
     "text": [
      "https://doi.org/10.1109/tdmr.2018.2842253\n",
      "https://doi.org/10.17586/2220-8054-2015-6-5-650-660\n"
     ]
    },
    {
     "name": "stderr",
     "output_type": "stream",
     "text": [
      " 50%|████▉     | 357/716 [01:28<00:59,  6.06it/s]"
     ]
    },
    {
     "name": "stdout",
     "output_type": "stream",
     "text": [
      "https://doi.org/10.1155/2013/434636\n",
      "https://doi.org/10.1016/j.actamat.2005.05.001\n"
     ]
    },
    {
     "name": "stderr",
     "output_type": "stream",
     "text": [
      " 50%|█████     | 359/716 [01:28<01:01,  5.82it/s]"
     ]
    },
    {
     "name": "stdout",
     "output_type": "stream",
     "text": [
      "https://doi.org/10.3390/electronics4041109\n",
      "https://doi.org/10.1088/0957-4484/27/5/055701\n"
     ]
    },
    {
     "name": "stderr",
     "output_type": "stream",
     "text": [
      " 51%|█████     | 362/716 [01:29<00:45,  7.73it/s]"
     ]
    },
    {
     "name": "stdout",
     "output_type": "stream",
     "text": [
      "https://doi.org/10.1016/j.carbon.2018.07.073\n",
      "https://doi.org/10.1061/9780784413111.008\n",
      "https://doi.org/10.1038/s41524-017-0042-y\n"
     ]
    },
    {
     "name": "stderr",
     "output_type": "stream",
     "text": [
      " 51%|█████     | 364/716 [01:29<00:54,  6.49it/s]"
     ]
    },
    {
     "name": "stdout",
     "output_type": "stream",
     "text": [
      "https://doi.org/10.1016/j.jcp.2014.12.018\n",
      "https://doi.org/10.1063/1.4905942\n"
     ]
    },
    {
     "name": "stderr",
     "output_type": "stream",
     "text": [
      " 51%|█████     | 366/716 [01:29<00:45,  7.66it/s]"
     ]
    },
    {
     "name": "stdout",
     "output_type": "stream",
     "text": [
      "https://doi.org/10.1126/sciadv.1602916\n",
      "https://doi.org/10.1016/j.commatsci.2018.08.011\n"
     ]
    },
    {
     "name": "stderr",
     "output_type": "stream",
     "text": [
      " 51%|█████▏    | 368/716 [01:30<00:48,  7.10it/s]"
     ]
    },
    {
     "name": "stdout",
     "output_type": "stream",
     "text": [
      "https://doi.org/10.1080/08927022.2018.1447107\n",
      "https://doi.org/10.3390/ma9050355\n"
     ]
    },
    {
     "name": "stderr",
     "output_type": "stream",
     "text": [
      " 52%|█████▏    | 371/716 [01:30<00:40,  8.57it/s]"
     ]
    },
    {
     "name": "stdout",
     "output_type": "stream",
     "text": [
      "https://doi.org/10.3390/lubricants6020043\n",
      "https://doi.org/10.1557/jmr.2008.0090\n",
      "https://doi.org/10.1103/physrevb.67.125101\n"
     ]
    },
    {
     "name": "stderr",
     "output_type": "stream",
     "text": [
      " 52%|█████▏    | 373/716 [01:30<00:45,  7.52it/s]"
     ]
    },
    {
     "name": "stdout",
     "output_type": "stream",
     "text": [
      "https://doi.org/10.1186/s40192-016-0051-6\n",
      "https://doi.org/10.1016/j.carbon.2017.06.009\n"
     ]
    },
    {
     "name": "stderr",
     "output_type": "stream",
     "text": [
      " 52%|█████▏    | 375/716 [01:30<00:40,  8.47it/s]"
     ]
    },
    {
     "name": "stdout",
     "output_type": "stream",
     "text": [
      "https://doi.org/10.1016/j.actamat.2012.08.018\n",
      "https://doi.org/10.5539/jmsr.v5n3p1\n"
     ]
    },
    {
     "name": "stderr",
     "output_type": "stream",
     "text": [
      " 53%|█████▎    | 378/716 [01:31<00:49,  6.79it/s]"
     ]
    },
    {
     "name": "stdout",
     "output_type": "stream",
     "text": [
      "https://doi.org/10.3390/ma11020317\n",
      "https://doi.org/10.1063/1.5064531\n",
      "https://doi.org/10.1016/j.jmps.2016.08.002\n"
     ]
    },
    {
     "name": "stderr",
     "output_type": "stream",
     "text": [
      " 53%|█████▎    | 380/716 [01:31<00:42,  7.99it/s]"
     ]
    },
    {
     "name": "stdout",
     "output_type": "stream",
     "text": [
      "https://doi.org/10.5539/apr.v7n6p1\n",
      "https://doi.org/none_20756763\n"
     ]
    },
    {
     "name": "stderr",
     "output_type": "stream",
     "text": [
      " 53%|█████▎    | 381/716 [01:31<00:46,  7.15it/s]"
     ]
    },
    {
     "name": "stdout",
     "output_type": "stream",
     "text": [
      "https://doi.org/10.1016/j.tsf.2014.12.019\n",
      "https://doi.org/10.3390/ma10070813\n"
     ]
    },
    {
     "name": "stderr",
     "output_type": "stream",
     "text": [
      " 54%|█████▎    | 384/716 [01:32<00:43,  7.66it/s]"
     ]
    },
    {
     "name": "stdout",
     "output_type": "stream",
     "text": [
      "https://doi.org/10.5772/15988\n",
      "https://doi.org/10.1016/j.ijsolstr.2016.03.030\n"
     ]
    },
    {
     "name": "stderr",
     "output_type": "stream",
     "text": [
      " 54%|█████▍    | 386/716 [01:32<00:50,  6.51it/s]"
     ]
    },
    {
     "name": "stdout",
     "output_type": "stream",
     "text": [
      "https://doi.org/10.1088/2053-1583/aaded7\n",
      "https://doi.org/10.1016/j.cma.2016.03.011\n"
     ]
    },
    {
     "name": "stderr",
     "output_type": "stream",
     "text": [
      " 54%|█████▍    | 388/716 [01:32<00:42,  7.65it/s]"
     ]
    },
    {
     "name": "stdout",
     "output_type": "stream",
     "text": [
      "https://doi.org/10.1186/1556-276x-6-502\n",
      "https://doi.org/10.1051/snamc/201401302\n"
     ]
    },
    {
     "name": "stderr",
     "output_type": "stream",
     "text": [
      " 54%|█████▍    | 390/716 [01:33<00:49,  6.57it/s]"
     ]
    },
    {
     "name": "stdout",
     "output_type": "stream",
     "text": [
      "https://doi.org/10.1038/srep31047\n",
      "https://doi.org/10.1021/acsomega.9b00174\n"
     ]
    },
    {
     "name": "stderr",
     "output_type": "stream",
     "text": [
      " 55%|█████▍    | 392/716 [01:33<00:48,  6.65it/s]"
     ]
    },
    {
     "name": "stdout",
     "output_type": "stream",
     "text": [
      "https://doi.org/10.1038/s41524-017-0056-5\n",
      "https://doi.org/10.1039/c4cp03398a\n"
     ]
    },
    {
     "name": "stderr",
     "output_type": "stream",
     "text": [
      " 55%|█████▌    | 394/716 [01:33<00:45,  7.01it/s]"
     ]
    },
    {
     "name": "stdout",
     "output_type": "stream",
     "text": [
      "https://doi.org/10.2478/s11534-006-0028-8\n",
      "https://doi.org/10.1126/sciadv.aau8044\n"
     ]
    },
    {
     "name": "stderr",
     "output_type": "stream",
     "text": [
      " 55%|█████▌    | 396/716 [01:33<00:44,  7.15it/s]"
     ]
    },
    {
     "name": "stdout",
     "output_type": "stream",
     "text": [
      "https://doi.org/10.1016/j.mechmat.2015.02.007\n",
      "https://doi.org/10.1007/s00466-018-1632-3\n"
     ]
    },
    {
     "name": "stderr",
     "output_type": "stream",
     "text": [
      " 56%|█████▌    | 398/716 [01:34<00:51,  6.23it/s]"
     ]
    },
    {
     "name": "stdout",
     "output_type": "stream",
     "text": [
      "https://doi.org/10.1038/srep12177\n",
      "https://doi.org/none_17936269\n"
     ]
    },
    {
     "name": "stderr",
     "output_type": "stream",
     "text": [
      " 56%|█████▌    | 400/716 [01:34<00:40,  7.71it/s]"
     ]
    },
    {
     "name": "stdout",
     "output_type": "stream",
     "text": [
      "https://doi.org/10.1016/j.ssc.2017.11.003\n",
      "https://doi.org/10.1088/0953-8984/25/13/135002\n",
      "https://doi.org/none_18350768\n"
     ]
    },
    {
     "name": "stderr",
     "output_type": "stream",
     "text": [
      " 56%|█████▋    | 403/716 [01:34<00:47,  6.54it/s]"
     ]
    },
    {
     "name": "stdout",
     "output_type": "stream",
     "text": [
      "https://doi.org/10.1021/acs.jpcc.5b08350\n",
      "https://doi.org/none_13945976\n"
     ]
    },
    {
     "name": "stderr",
     "output_type": "stream",
     "text": [
      " 57%|█████▋    | 405/716 [01:35<00:46,  6.76it/s]"
     ]
    },
    {
     "name": "stdout",
     "output_type": "stream",
     "text": [
      "https://doi.org/10.1016/j.jmps.2014.06.007\n",
      "https://doi.org/10.1038/srep00194\n"
     ]
    },
    {
     "name": "stderr",
     "output_type": "stream",
     "text": [
      " 57%|█████▋    | 407/716 [01:35<00:48,  6.34it/s]"
     ]
    },
    {
     "name": "stdout",
     "output_type": "stream",
     "text": [
      "https://doi.org/10.5772/17946\n",
      "https://doi.org/10.1021/acs.jpcc.9b02716\n"
     ]
    },
    {
     "name": "stderr",
     "output_type": "stream",
     "text": [
      " 57%|█████▋    | 409/716 [01:35<00:39,  7.70it/s]"
     ]
    },
    {
     "name": "stdout",
     "output_type": "stream",
     "text": [
      "https://doi.org/10.1038/s41598-018-20997-8\n",
      "https://doi.org/10.1088/0965-0393/4/1/004\n"
     ]
    },
    {
     "name": "stderr",
     "output_type": "stream",
     "text": [
      " 57%|█████▋    | 411/716 [01:36<00:46,  6.54it/s]"
     ]
    },
    {
     "name": "stdout",
     "output_type": "stream",
     "text": [
      "https://doi.org/10.1007/s10853-016-0351-4\n",
      "https://doi.org/10.2138/am-2015-4862\n"
     ]
    },
    {
     "name": "stderr",
     "output_type": "stream",
     "text": [
      " 58%|█████▊    | 413/716 [01:36<00:39,  7.74it/s]"
     ]
    },
    {
     "name": "stdout",
     "output_type": "stream",
     "text": [
      "https://doi.org/10.4236/njgc.2016.63005\n",
      "https://doi.org/10.1080/14786435.2012.747012\n",
      "https://doi.org/10.24297/jap.v14i3.7601\n"
     ]
    },
    {
     "name": "stderr",
     "output_type": "stream",
     "text": [
      " 58%|█████▊    | 416/716 [01:36<00:37,  7.91it/s]"
     ]
    },
    {
     "name": "stdout",
     "output_type": "stream",
     "text": [
      "https://doi.org/none_28182591\n",
      "https://doi.org/10.1016/j.jallcom.2016.04.055\n"
     ]
    },
    {
     "name": "stderr",
     "output_type": "stream",
     "text": [
      " 58%|█████▊    | 417/716 [01:36<00:41,  7.14it/s]"
     ]
    },
    {
     "name": "stdout",
     "output_type": "stream",
     "text": [
      "https://doi.org/10.1073/pnas.1306371110\n",
      "https://doi.org/none_4818846\n"
     ]
    },
    {
     "name": "stderr",
     "output_type": "stream",
     "text": [
      " 59%|█████▊    | 420/716 [01:37<00:38,  7.64it/s]"
     ]
    },
    {
     "name": "stdout",
     "output_type": "stream",
     "text": [
      "https://doi.org/10.1103/physrevb.63.224106\n",
      "https://doi.org/10.1038/srep01039\n",
      "https://doi.org/10.1103/physrevb.76.214105\n"
     ]
    },
    {
     "name": "stderr",
     "output_type": "stream",
     "text": [
      " 59%|█████▉    | 423/716 [01:37<00:38,  7.56it/s]"
     ]
    },
    {
     "name": "stdout",
     "output_type": "stream",
     "text": [
      "https://doi.org/10.2174/1573413712666160530105707\n",
      "https://doi.org/10.1103/physrevb.73.045206\n"
     ]
    },
    {
     "name": "stderr",
     "output_type": "stream",
     "text": [
      " 59%|█████▉    | 425/716 [01:37<00:39,  7.42it/s]"
     ]
    },
    {
     "name": "stdout",
     "output_type": "stream",
     "text": [
      "https://doi.org/10.1007/s40870-016-0080-4\n",
      "https://doi.org/10.1007/s00161-010-0169-2\n"
     ]
    },
    {
     "name": "stderr",
     "output_type": "stream",
     "text": [
      " 60%|█████▉    | 427/716 [01:38<00:40,  7.06it/s]"
     ]
    },
    {
     "name": "stdout",
     "output_type": "stream",
     "text": [
      "https://doi.org/10.1038/srep39042\n",
      "https://doi.org/10.1038/s41524-018-0062-2\n"
     ]
    },
    {
     "name": "stderr",
     "output_type": "stream",
     "text": [
      " 60%|█████▉    | 429/716 [01:38<00:42,  6.78it/s]"
     ]
    },
    {
     "name": "stdout",
     "output_type": "stream",
     "text": [
      "https://doi.org/10.1021/es5043782\n",
      "https://doi.org/10.1038/srep05167\n"
     ]
    },
    {
     "name": "stderr",
     "output_type": "stream",
     "text": [
      " 60%|██████    | 432/716 [01:38<00:33,  8.42it/s]"
     ]
    },
    {
     "name": "stdout",
     "output_type": "stream",
     "text": [
      "https://doi.org/10.1016/j.actamat.2015.11.037\n",
      "https://doi.org/10.1038/s41467-017-01305-w\n",
      "https://doi.org/10.1088/2053-1583/3/2/025033\n"
     ]
    },
    {
     "name": "stderr",
     "output_type": "stream",
     "text": [
      " 61%|██████    | 435/716 [01:39<00:33,  8.41it/s]"
     ]
    },
    {
     "name": "stdout",
     "output_type": "stream",
     "text": [
      "https://doi.org/10.1038/s41524-018-0112-9\n",
      "https://doi.org/none_1920016\n",
      "https://doi.org/10.1063/1.2724570\n"
     ]
    },
    {
     "name": "stderr",
     "output_type": "stream",
     "text": [
      " 61%|██████    | 438/716 [01:39<00:31,  8.69it/s]"
     ]
    },
    {
     "name": "stdout",
     "output_type": "stream",
     "text": [
      "https://doi.org/10.1016/j.ijengsci.2014.02.018\n",
      "https://doi.org/10.1038/s41598-019-46672-0\n",
      "https://doi.org/10.1126/sciadv.1700176\n"
     ]
    },
    {
     "name": "stderr",
     "output_type": "stream",
     "text": [
      " 62%|██████▏   | 441/716 [01:39<00:29,  9.48it/s]"
     ]
    },
    {
     "name": "stdout",
     "output_type": "stream",
     "text": [
      "https://doi.org/10.1016/j.carbon.2015.04.044\n",
      "https://doi.org/10.1557/jmr.2019.19\n",
      "https://doi.org/10.1088/0965-0393/17/5/055004\n"
     ]
    },
    {
     "name": "stderr",
     "output_type": "stream",
     "text": [
      " 62%|██████▏   | 443/716 [01:40<00:32,  8.48it/s]"
     ]
    },
    {
     "name": "stdout",
     "output_type": "stream",
     "text": [
      "https://doi.org/10.3390/nano9040552\n",
      "https://doi.org/10.1021/acsnano.6b03963\n"
     ]
    },
    {
     "name": "stderr",
     "output_type": "stream",
     "text": [
      " 62%|██████▏   | 445/716 [01:40<00:39,  6.86it/s]"
     ]
    },
    {
     "name": "stdout",
     "output_type": "stream",
     "text": [
      "https://doi.org/10.1186/s13321-019-0369-0\n",
      "https://doi.org/10.1016/j.physa.2017.02.077\n"
     ]
    },
    {
     "name": "stderr",
     "output_type": "stream",
     "text": [
      " 62%|██████▏   | 447/716 [01:40<00:40,  6.70it/s]"
     ]
    },
    {
     "name": "stdout",
     "output_type": "stream",
     "text": [
      "https://doi.org/10.1063/1.4905549\n",
      "https://doi.org/10.1155/2014/365642\n"
     ]
    },
    {
     "name": "stderr",
     "output_type": "stream",
     "text": [
      " 63%|██████▎   | 449/716 [01:40<00:33,  7.96it/s]"
     ]
    },
    {
     "name": "stdout",
     "output_type": "stream",
     "text": [
      "https://doi.org/10.1016/j.jmps.2012.09.008\n",
      "https://doi.org/10.1016/j.cirp.2017.05.004\n",
      "https://doi.org/none_20146078\n"
     ]
    },
    {
     "name": "stderr",
     "output_type": "stream",
     "text": [
      " 63%|██████▎   | 452/716 [01:41<00:33,  7.82it/s]"
     ]
    },
    {
     "name": "stdout",
     "output_type": "stream",
     "text": [
      "https://doi.org/10.1021/acs.jpcb.9b04298\n",
      "https://doi.org/10.1007/s11051-017-4105-2\n"
     ]
    },
    {
     "name": "stderr",
     "output_type": "stream",
     "text": [
      " 63%|██████▎   | 454/716 [01:41<00:39,  6.61it/s]"
     ]
    },
    {
     "name": "stdout",
     "output_type": "stream",
     "text": [
      "https://doi.org/10.19113/sdufbed.37948\n",
      "https://doi.org/10.1103/physrevb.89.094102\n"
     ]
    },
    {
     "name": "stderr",
     "output_type": "stream",
     "text": [
      " 64%|██████▎   | 456/716 [01:41<00:33,  7.66it/s]"
     ]
    },
    {
     "name": "stdout",
     "output_type": "stream",
     "text": [
      "https://doi.org/none_28657560\n",
      "https://doi.org/10.1103/physrevb.83.054116\n"
     ]
    },
    {
     "name": "stderr",
     "output_type": "stream",
     "text": [
      " 64%|██████▍   | 458/716 [01:42<00:34,  7.47it/s]"
     ]
    },
    {
     "name": "stdout",
     "output_type": "stream",
     "text": [
      "https://doi.org/10.1007/s10853-016-9834-6\n",
      "https://doi.org/10.1016/j.physe.2018.11.025\n",
      "https://doi.org/10.1103/revmodphys.82.1459\n"
     ]
    },
    {
     "name": "stderr",
     "output_type": "stream",
     "text": [
      " 64%|██████▍   | 460/716 [01:42<00:31,  8.06it/s]"
     ]
    },
    {
     "name": "stdout",
     "output_type": "stream",
     "text": [
      "https://doi.org/10.1016/j.jnucmat.2016.03.017\n",
      "https://doi.org/10.1016/j.jnucmat.2010.05.017\n"
     ]
    },
    {
     "name": "stderr",
     "output_type": "stream",
     "text": [
      " 65%|██████▍   | 464/716 [01:42<00:31,  8.05it/s]"
     ]
    },
    {
     "name": "stdout",
     "output_type": "stream",
     "text": [
      "https://doi.org/10.1081/fst-200039164\n",
      "https://doi.org/10.1103/physrevb.85.245102\n",
      "https://doi.org/10.1103/physrevb.31.5262\n"
     ]
    },
    {
     "name": "stderr",
     "output_type": "stream",
     "text": [
      " 65%|██████▌   | 466/716 [01:43<00:33,  7.56it/s]"
     ]
    },
    {
     "name": "stdout",
     "output_type": "stream",
     "text": [
      "https://doi.org/10.1088/0965-0393/25/1/014001\n",
      "https://doi.org/10.1021/acs.jpcb.7b12358\n"
     ]
    },
    {
     "name": "stderr",
     "output_type": "stream",
     "text": [
      " 65%|██████▌   | 468/716 [01:43<00:29,  8.32it/s]"
     ]
    },
    {
     "name": "stdout",
     "output_type": "stream",
     "text": [
      "https://doi.org/none_23942303\n",
      "https://doi.org/10.3390/app7111193\n"
     ]
    },
    {
     "name": "stderr",
     "output_type": "stream",
     "text": [
      " 66%|██████▌   | 470/716 [01:43<00:31,  7.87it/s]"
     ]
    },
    {
     "name": "stdout",
     "output_type": "stream",
     "text": [
      "https://doi.org/10.1103/physrevb.86.245203\n",
      "https://doi.org/10.5194/acp-2017-1013\n"
     ]
    },
    {
     "name": "stderr",
     "output_type": "stream",
     "text": [
      " 66%|██████▌   | 471/716 [01:43<00:35,  6.93it/s]"
     ]
    },
    {
     "name": "stdout",
     "output_type": "stream",
     "text": [
      "https://doi.org/10.1007/s12274-012-0267-5\n",
      "https://doi.org/10.1016/j.ijsolstr.2011.06.004\n"
     ]
    },
    {
     "name": "stderr",
     "output_type": "stream",
     "text": [
      " 66%|██████▋   | 475/716 [01:44<00:29,  8.11it/s]"
     ]
    },
    {
     "name": "stdout",
     "output_type": "stream",
     "text": [
      "https://doi.org/10.1038/srep03635\n",
      "https://doi.org/10.1111/maps.12268\n",
      "https://doi.org/10.1088/1361-651x/aaaf94\n"
     ]
    },
    {
     "name": "stderr",
     "output_type": "stream",
     "text": [
      " 67%|██████▋   | 477/716 [01:44<00:31,  7.50it/s]"
     ]
    },
    {
     "name": "stdout",
     "output_type": "stream",
     "text": [
      "https://doi.org/10.1038/s41598-017-18254-5\n",
      "https://doi.org/10.1021/acsami.8b07925\n"
     ]
    },
    {
     "name": "stderr",
     "output_type": "stream",
     "text": [
      " 67%|██████▋   | 480/716 [01:44<00:26,  8.93it/s]"
     ]
    },
    {
     "name": "stdout",
     "output_type": "stream",
     "text": [
      "https://doi.org/10.1186/s11671-019-3123-7\n",
      "https://doi.org/10.1080/01418619708207198\n",
      "https://doi.org/10.11648/j.ijctc.20130103.11\n"
     ]
    },
    {
     "name": "stderr",
     "output_type": "stream",
     "text": [
      " 67%|██████▋   | 482/716 [01:45<00:25,  9.32it/s]"
     ]
    },
    {
     "name": "stdout",
     "output_type": "stream",
     "text": [
      "https://doi.org/10.1016/j.cpc.2006.06.003\n",
      "https://doi.org/10.3390/lubricants4030024\n",
      "https://doi.org/10.3390/molecules24061103\n"
     ]
    },
    {
     "name": "stderr",
     "output_type": "stream",
     "text": [
      " 68%|██████▊   | 484/716 [01:45<00:24,  9.57it/s]"
     ]
    },
    {
     "name": "stdout",
     "output_type": "stream",
     "text": [
      "https://doi.org/10.1088/0965-0393/17/2/025010\n",
      "https://doi.org/10.1080/21663831.2018.1503198\n"
     ]
    },
    {
     "name": "stderr",
     "output_type": "stream",
     "text": [
      " 68%|██████▊   | 487/716 [01:45<00:29,  7.79it/s]"
     ]
    },
    {
     "name": "stdout",
     "output_type": "stream",
     "text": [
      "https://doi.org/10.1088/1361-648x/aaafb3\n",
      "https://doi.org/10.1016/j.carbon.2016.02.080\n"
     ]
    },
    {
     "name": "stderr",
     "output_type": "stream",
     "text": [
      " 68%|██████▊   | 489/716 [01:46<00:29,  7.58it/s]"
     ]
    },
    {
     "name": "stdout",
     "output_type": "stream",
     "text": [
      "https://doi.org/10.1007/s10659-015-9568-8\n",
      "https://doi.org/10.1016/j.ijsolstr.2009.07.006\n"
     ]
    },
    {
     "name": "stderr",
     "output_type": "stream",
     "text": [
      " 69%|██████▊   | 492/716 [01:46<00:25,  8.85it/s]"
     ]
    },
    {
     "name": "stdout",
     "output_type": "stream",
     "text": [
      "https://doi.org/10.1063/1.4922611\n",
      "https://doi.org/none_19593622\n",
      "https://doi.org/10.1145/2503210.2503235\n"
     ]
    },
    {
     "name": "stderr",
     "output_type": "stream",
     "text": [
      " 69%|██████▉   | 494/716 [01:46<00:27,  8.02it/s]"
     ]
    },
    {
     "name": "stdout",
     "output_type": "stream",
     "text": [
      "https://doi.org/10.1557/opl.2015.745\n",
      "https://doi.org/10.1016/j.apcatb.2014.06.032\n"
     ]
    },
    {
     "name": "stderr",
     "output_type": "stream",
     "text": [
      " 69%|██████▉   | 497/716 [01:46<00:23,  9.18it/s]"
     ]
    },
    {
     "name": "stdout",
     "output_type": "stream",
     "text": [
      "https://doi.org/10.1016/j.compositesb.2016.04.012\n",
      "https://doi.org/10.1088/0965-0393/12/4/007\n",
      "https://doi.org/10.1021/acsomega.8b00707\n"
     ]
    },
    {
     "name": "stderr",
     "output_type": "stream",
     "text": [
      " 70%|██████▉   | 499/716 [01:47<00:26,  8.18it/s]"
     ]
    },
    {
     "name": "stdout",
     "output_type": "stream",
     "text": [
      "https://doi.org/10.1016/j.commatsci.2014.10.062\n",
      "https://doi.org/10.1098/rsta.2009.0252\n"
     ]
    },
    {
     "name": "stderr",
     "output_type": "stream",
     "text": [
      " 70%|██████▉   | 501/716 [01:47<00:31,  6.79it/s]"
     ]
    },
    {
     "name": "stdout",
     "output_type": "stream",
     "text": [
      "https://doi.org/10.1016/j.commatsci.2014.12.001\n",
      "https://doi.org/10.1016/j.mtla.2019.100416\n"
     ]
    },
    {
     "name": "stderr",
     "output_type": "stream",
     "text": [
      " 70%|███████   | 503/716 [01:47<00:35,  6.08it/s]"
     ]
    },
    {
     "name": "stdout",
     "output_type": "stream",
     "text": [
      "https://doi.org/10.1016/j.jmps.2016.08.007\n",
      "https://doi.org/10.1007/s11671-008-9119-3\n"
     ]
    },
    {
     "name": "stderr",
     "output_type": "stream",
     "text": [
      " 71%|███████   | 506/716 [01:48<00:26,  7.93it/s]"
     ]
    },
    {
     "name": "stdout",
     "output_type": "stream",
     "text": [
      "https://doi.org/10.1038/srep13228\n",
      "https://doi.org/10.1063/1.4997091\n",
      "https://doi.org/10.1007/s00170-015-7051-0\n"
     ]
    },
    {
     "name": "stderr",
     "output_type": "stream",
     "text": [
      " 71%|███████   | 508/716 [01:48<00:28,  7.18it/s]"
     ]
    },
    {
     "name": "stdout",
     "output_type": "stream",
     "text": [
      "https://doi.org/10.1007/s10853-016-0700-3\n",
      "https://doi.org/10.7494/csci.2013.14.1.27\n"
     ]
    },
    {
     "name": "stderr",
     "output_type": "stream",
     "text": [
      " 71%|███████   | 510/716 [01:48<00:33,  6.22it/s]"
     ]
    },
    {
     "name": "stdout",
     "output_type": "stream",
     "text": [
      "https://doi.org/10.3390/nano9020218\n",
      "https://doi.org/10.1038/s41598-017-11139-7\n"
     ]
    },
    {
     "name": "stderr",
     "output_type": "stream",
     "text": [
      " 72%|███████▏  | 512/716 [01:49<00:34,  5.86it/s]"
     ]
    },
    {
     "name": "stdout",
     "output_type": "stream",
     "text": [
      "https://doi.org/10.1103/physrevmaterials.3.023804\n",
      "https://doi.org/10.1021/jp505554w\n"
     ]
    },
    {
     "name": "stderr",
     "output_type": "stream",
     "text": [
      " 72%|███████▏  | 514/716 [01:49<00:36,  5.60it/s]"
     ]
    },
    {
     "name": "stdout",
     "output_type": "stream",
     "text": [
      "https://doi.org/10.5772/16823\n",
      "https://doi.org/10.1186/s11671-018-2831-8\n"
     ]
    },
    {
     "name": "stderr",
     "output_type": "stream",
     "text": [
      " 72%|███████▏  | 517/716 [01:50<00:28,  6.93it/s]"
     ]
    },
    {
     "name": "stdout",
     "output_type": "stream",
     "text": [
      "https://doi.org/10.1007/s10853-018-3139-x\n",
      "https://doi.org/10.1016/j.carbon.2014.05.061\n",
      "https://doi.org/10.1016/j.commatsci.2014.11.047\n"
     ]
    },
    {
     "name": "stderr",
     "output_type": "stream",
     "text": [
      " 72%|███████▏  | 519/716 [01:50<00:24,  7.94it/s]"
     ]
    },
    {
     "name": "stdout",
     "output_type": "stream",
     "text": [
      "https://doi.org/10.1103/physrevx.9.031016\n",
      "https://doi.org/none_21683541\n"
     ]
    },
    {
     "name": "stderr",
     "output_type": "stream",
     "text": [
      " 73%|███████▎  | 522/716 [01:50<00:23,  8.28it/s]"
     ]
    },
    {
     "name": "stdout",
     "output_type": "stream",
     "text": [
      "https://doi.org/none_27349239\n",
      "https://doi.org/10.3390/nano8100856\n",
      "https://doi.org/10.1021/jp404095x\n"
     ]
    },
    {
     "name": "stderr",
     "output_type": "stream",
     "text": [
      " 73%|███████▎  | 524/716 [01:50<00:21,  9.10it/s]"
     ]
    },
    {
     "name": "stdout",
     "output_type": "stream",
     "text": [
      "https://doi.org/10.1103/physrevb.37.3924\n",
      "https://doi.org/10.1186/1556-276x-7-164\n",
      "https://doi.org/10.1088/0953-8984/27/8/083001\n"
     ]
    },
    {
     "name": "stderr",
     "output_type": "stream",
     "text": [
      " 74%|███████▎  | 528/716 [01:51<00:21,  8.82it/s]"
     ]
    },
    {
     "name": "stdout",
     "output_type": "stream",
     "text": [
      "https://doi.org/10.17509/ijost.v2i2.7987\n",
      "https://doi.org/none_9096290\n",
      "https://doi.org/10.3390/e16010322\n"
     ]
    },
    {
     "name": "stderr",
     "output_type": "stream",
     "text": [
      " 74%|███████▍  | 530/716 [01:51<00:25,  7.27it/s]"
     ]
    },
    {
     "name": "stdout",
     "output_type": "stream",
     "text": [
      "https://doi.org/10.3390/biomimetics4010012\n",
      "https://doi.org/10.1103/physrevb.78.054121\n"
     ]
    },
    {
     "name": "stderr",
     "output_type": "stream",
     "text": [
      " 74%|███████▍  | 532/716 [01:51<00:25,  7.31it/s]"
     ]
    },
    {
     "name": "stdout",
     "output_type": "stream",
     "text": [
      "https://doi.org/10.5772/17725\n",
      "https://doi.org/10.1016/j.ijsolstr.2006.03.018\n"
     ]
    },
    {
     "name": "stderr",
     "output_type": "stream",
     "text": [
      " 75%|███████▍  | 535/716 [01:52<00:22,  7.90it/s]"
     ]
    },
    {
     "name": "stdout",
     "output_type": "stream",
     "text": [
      "https://doi.org/10.1557/mrc.2013.37\n",
      "https://doi.org/10.3390/coatings7060083\n",
      "https://doi.org/10.1038/s41598-018-22011-7\n"
     ]
    },
    {
     "name": "stderr",
     "output_type": "stream",
     "text": [
      " 75%|███████▌  | 538/716 [01:52<00:19,  8.92it/s]"
     ]
    },
    {
     "name": "stdout",
     "output_type": "stream",
     "text": [
      "https://doi.org/10.3390/c3040032\n",
      "https://doi.org/10.1007/s11671-009-9268-z\n",
      "https://doi.org/10.1016/j.mspro.2014.06.271\n"
     ]
    },
    {
     "name": "stderr",
     "output_type": "stream",
     "text": [
      " 75%|███████▌  | 540/716 [01:52<00:22,  7.96it/s]"
     ]
    },
    {
     "name": "stdout",
     "output_type": "stream",
     "text": [
      "https://doi.org/10.1038/s41467-019-10343-5\n",
      "https://doi.org/10.1021/jp510951s\n"
     ]
    },
    {
     "name": "stderr",
     "output_type": "stream",
     "text": [
      " 76%|███████▌  | 542/716 [01:53<00:23,  7.25it/s]"
     ]
    },
    {
     "name": "stdout",
     "output_type": "stream",
     "text": [
      "https://doi.org/10.1016/j.commatsci.2016.11.006\n",
      "https://doi.org/10.1155/2012/756791\n"
     ]
    },
    {
     "name": "stderr",
     "output_type": "stream",
     "text": [
      " 76%|███████▌  | 544/716 [01:53<00:23,  7.26it/s]"
     ]
    },
    {
     "name": "stdout",
     "output_type": "stream",
     "text": [
      "https://doi.org/10.1007/s10832-017-0093-y\n",
      "https://doi.org/10.1016/j.commatsci.2018.10.021\n"
     ]
    },
    {
     "name": "stderr",
     "output_type": "stream",
     "text": [
      " 76%|███████▋  | 547/716 [01:53<00:19,  8.63it/s]"
     ]
    },
    {
     "name": "stdout",
     "output_type": "stream",
     "text": [
      "https://doi.org/10.1038/ncomms11816\n",
      "https://doi.org/10.1016/j.intermet.2016.05.009\n",
      "https://doi.org/10.1016/j.jcp.2015.10.009\n"
     ]
    },
    {
     "name": "stderr",
     "output_type": "stream",
     "text": [
      " 77%|███████▋  | 549/716 [01:53<00:18,  9.20it/s]"
     ]
    },
    {
     "name": "stdout",
     "output_type": "stream",
     "text": [
      "https://doi.org/10.1088/0965-0393/21/1/015009\n",
      "https://doi.org/10.1038/s41598-019-42187-w\n",
      "https://doi.org/10.1016/j.commatsci.2014.11.030\n"
     ]
    },
    {
     "name": "stderr",
     "output_type": "stream",
     "text": [
      " 77%|███████▋  | 552/716 [01:54<00:21,  7.68it/s]"
     ]
    },
    {
     "name": "stdout",
     "output_type": "stream",
     "text": [
      "https://doi.org/10.1021/acs.chemrev.5b00644\n",
      "https://doi.org/10.1115/1.4038130\n"
     ]
    },
    {
     "name": "stderr",
     "output_type": "stream",
     "text": [
      " 77%|███████▋  | 554/716 [01:54<00:24,  6.62it/s]"
     ]
    },
    {
     "name": "stdout",
     "output_type": "stream",
     "text": [
      "https://doi.org/10.3390/nano8070546\n",
      "https://doi.org/10.1177/1094342007085015\n"
     ]
    },
    {
     "name": "stderr",
     "output_type": "stream",
     "text": [
      " 78%|███████▊  | 557/716 [01:55<00:19,  8.13it/s]"
     ]
    },
    {
     "name": "stdout",
     "output_type": "stream",
     "text": [
      "https://doi.org/10.1098/rsta.2011.0208\n",
      "https://doi.org/10.1016/j.commatsci.2019.02.024\n",
      "https://doi.org/10.1016/j.ijheatmasstransfer.2019.01.074\n"
     ]
    },
    {
     "name": "stderr",
     "output_type": "stream",
     "text": [
      " 78%|███████▊  | 560/716 [01:55<00:17,  9.06it/s]"
     ]
    },
    {
     "name": "stdout",
     "output_type": "stream",
     "text": [
      "https://doi.org/10.1515/mesbi-2016-0007\n",
      "https://doi.org/10.1016/j.wear.2012.02.010\n",
      "https://doi.org/10.1103/physrevb.38.3318\n"
     ]
    },
    {
     "name": "stderr",
     "output_type": "stream",
     "text": [
      " 78%|███████▊  | 562/716 [01:55<00:19,  8.08it/s]"
     ]
    },
    {
     "name": "stdout",
     "output_type": "stream",
     "text": [
      "https://doi.org/10.1111/ffe.12189\n",
      "https://doi.org/10.3390/cryst8050231\n"
     ]
    },
    {
     "name": "stderr",
     "output_type": "stream",
     "text": [
      " 79%|███████▉  | 564/716 [01:56<00:23,  6.49it/s]"
     ]
    },
    {
     "name": "stdout",
     "output_type": "stream",
     "text": [
      "https://doi.org/10.1186/1556-276x-8-312\n",
      "https://doi.org/10.1038/ncomms4186\n"
     ]
    },
    {
     "name": "stderr",
     "output_type": "stream",
     "text": [
      " 79%|███████▉  | 566/716 [01:56<00:23,  6.43it/s]"
     ]
    },
    {
     "name": "stdout",
     "output_type": "stream",
     "text": [
      "https://doi.org/10.3390/a2010410\n",
      "https://doi.org/10.1038/sdata.2017.57\n"
     ]
    },
    {
     "name": "stderr",
     "output_type": "stream",
     "text": [
      " 79%|███████▉  | 568/716 [01:56<00:23,  6.35it/s]"
     ]
    },
    {
     "name": "stdout",
     "output_type": "stream",
     "text": [
      "https://doi.org/10.1088/0960-1317/23/10/103001\n",
      "https://doi.org/10.1007/s12274-009-9015-x\n"
     ]
    },
    {
     "name": "stderr",
     "output_type": "stream",
     "text": [
      " 79%|███████▉  | 569/716 [01:56<00:20,  7.03it/s]"
     ]
    },
    {
     "name": "stdout",
     "output_type": "stream",
     "text": [
      "https://doi.org/none_9108950\n",
      "https://doi.org/10.1007/s00205-018-1284-7\n"
     ]
    },
    {
     "name": "stderr",
     "output_type": "stream",
     "text": [
      " 80%|████████  | 573/716 [01:57<00:16,  8.71it/s]"
     ]
    },
    {
     "name": "stdout",
     "output_type": "stream",
     "text": [
      "https://doi.org/10.5772/36394\n",
      "https://doi.org/10.1103/physrevb.87.104114\n",
      "https://doi.org/10.2172/1040790\n"
     ]
    },
    {
     "name": "stderr",
     "output_type": "stream",
     "text": [
      " 80%|████████  | 575/716 [01:57<00:17,  7.86it/s]"
     ]
    },
    {
     "name": "stdout",
     "output_type": "stream",
     "text": [
      "https://doi.org/10.1155/2010/742127\n",
      "https://doi.org/10.1155/2017/8296458\n"
     ]
    },
    {
     "name": "stderr",
     "output_type": "stream",
     "text": [
      " 81%|████████  | 577/716 [01:57<00:19,  7.15it/s]"
     ]
    },
    {
     "name": "stdout",
     "output_type": "stream",
     "text": [
      "https://doi.org/10.1186/1556-276x-6-352\n",
      "https://doi.org/10.1016/j.jmps.2019.07.018\n"
     ]
    },
    {
     "name": "stderr",
     "output_type": "stream",
     "text": [
      " 81%|████████  | 579/716 [01:58<00:22,  6.10it/s]"
     ]
    },
    {
     "name": "stdout",
     "output_type": "stream",
     "text": [
      "https://doi.org/10.1137/100806242\n",
      "https://doi.org/10.1088/0965-0393/24/1/015002\n"
     ]
    },
    {
     "name": "stderr",
     "output_type": "stream",
     "text": [
      " 81%|████████  | 581/716 [01:58<00:23,  5.74it/s]"
     ]
    },
    {
     "name": "stdout",
     "output_type": "stream",
     "text": [
      "https://doi.org/10.5539/jmsr.v6n4p88\n",
      "https://doi.org/10.1186/s11671-019-3116-6\n"
     ]
    },
    {
     "name": "stderr",
     "output_type": "stream",
     "text": [
      " 81%|████████▏ | 582/716 [01:58<00:23,  5.59it/s]"
     ]
    },
    {
     "name": "stdout",
     "output_type": "stream",
     "text": [
      "https://doi.org/10.1021/acs.langmuir.6b00934\n",
      "https://doi.org/10.1046/j.1365-2818.1999.00452.x\n"
     ]
    },
    {
     "name": "stderr",
     "output_type": "stream",
     "text": [
      " 82%|████████▏ | 586/716 [01:59<00:17,  7.41it/s]"
     ]
    },
    {
     "name": "stdout",
     "output_type": "stream",
     "text": [
      "https://doi.org/10.1016/j.jallcom.2015.10.274\n",
      "https://doi.org/10.1038/s41524-019-0181-4\n",
      "https://doi.org/10.1117/12.840979\n"
     ]
    },
    {
     "name": "stderr",
     "output_type": "stream",
     "text": [
      " 82%|████████▏ | 589/716 [01:59<00:16,  7.92it/s]"
     ]
    },
    {
     "name": "stdout",
     "output_type": "stream",
     "text": [
      "https://doi.org/10.1021/acsnano.7b05815\n",
      "https://doi.org/10.1103/physrevb.71.035211\n",
      "https://doi.org/10.1007/s10704-017-0246-7\n"
     ]
    },
    {
     "name": "stderr",
     "output_type": "stream",
     "text": [
      " 83%|████████▎ | 591/716 [01:59<00:16,  7.66it/s]"
     ]
    },
    {
     "name": "stdout",
     "output_type": "stream",
     "text": [
      "https://doi.org/10.3390/min4020519\n",
      "https://doi.org/10.1038/srep11290\n"
     ]
    },
    {
     "name": "stderr",
     "output_type": "stream",
     "text": [
      " 83%|████████▎ | 593/716 [02:00<00:17,  7.20it/s]"
     ]
    },
    {
     "name": "stdout",
     "output_type": "stream",
     "text": [
      "https://doi.org/none_21795708\n",
      "https://doi.org/10.1073/pnas.1705723114\n"
     ]
    },
    {
     "name": "stderr",
     "output_type": "stream",
     "text": [
      " 83%|████████▎ | 595/716 [02:00<00:19,  6.32it/s]"
     ]
    },
    {
     "name": "stdout",
     "output_type": "stream",
     "text": [
      "https://doi.org/10.1016/s1359-6454(00)00002-1\n",
      "https://doi.org/10.1103/physrevb.85.115206\n"
     ]
    },
    {
     "name": "stderr",
     "output_type": "stream",
     "text": [
      " 83%|████████▎ | 597/716 [02:00<00:20,  5.86it/s]"
     ]
    },
    {
     "name": "stdout",
     "output_type": "stream",
     "text": [
      "https://doi.org/10.1007/s00269-015-0762-9\n",
      "https://doi.org/10.1016/j.cma.2015.06.001\n"
     ]
    },
    {
     "name": "stderr",
     "output_type": "stream",
     "text": [
      " 84%|████████▎ | 599/716 [02:01<00:20,  5.65it/s]"
     ]
    },
    {
     "name": "stdout",
     "output_type": "stream",
     "text": [
      "https://doi.org/10.1016/j.ijsolstr.2013.06.002\n",
      "https://doi.org/10.1016/j.nimb.2017.09.012\n"
     ]
    },
    {
     "name": "stderr",
     "output_type": "stream",
     "text": [
      " 84%|████████▍ | 601/716 [02:01<00:18,  6.25it/s]"
     ]
    },
    {
     "name": "stdout",
     "output_type": "stream",
     "text": [
      "https://doi.org/10.1007/s00466-013-0927-7\n",
      "https://doi.org/10.1021/acs.jpcc.5b01905\n"
     ]
    },
    {
     "name": "stderr",
     "output_type": "stream",
     "text": [
      " 84%|████████▍ | 602/716 [02:01<00:18,  6.06it/s]"
     ]
    },
    {
     "name": "stdout",
     "output_type": "stream",
     "text": [
      "https://doi.org/10.1073/pnas.1412962111\n"
     ]
    },
    {
     "name": "stderr",
     "output_type": "stream",
     "text": [
      " 84%|████████▍ | 604/716 [02:02<00:20,  5.48it/s]"
     ]
    },
    {
     "name": "stdout",
     "output_type": "stream",
     "text": [
      "https://doi.org/10.1103/physreve.82.016704\n",
      "https://doi.org/10.1080/08927022.2012.671942\n"
     ]
    },
    {
     "name": "stderr",
     "output_type": "stream",
     "text": [
      " 85%|████████▍ | 606/716 [02:02<00:18,  5.84it/s]"
     ]
    },
    {
     "name": "stdout",
     "output_type": "stream",
     "text": [
      "https://doi.org/10.3390/met7030073\n",
      "https://doi.org/10.2991/wartia-17.2017.66\n"
     ]
    },
    {
     "name": "stderr",
     "output_type": "stream",
     "text": [
      " 85%|████████▍ | 607/716 [02:02<00:19,  5.72it/s]"
     ]
    },
    {
     "name": "stdout",
     "output_type": "stream",
     "text": [
      "https://doi.org/10.5772/23794\n",
      "https://doi.org/10.1088/1367-2630/9/9/325\n"
     ]
    },
    {
     "name": "stderr",
     "output_type": "stream",
     "text": [
      " 85%|████████▌ | 610/716 [02:03<00:17,  6.04it/s]"
     ]
    },
    {
     "name": "stdout",
     "output_type": "stream",
     "text": [
      "https://doi.org/10.1038/srep09084\n",
      "https://doi.org/10.1016/s1359-6454(98)00038-x\n"
     ]
    },
    {
     "name": "stderr",
     "output_type": "stream",
     "text": [
      " 85%|████████▌ | 612/716 [02:03<00:15,  6.57it/s]"
     ]
    },
    {
     "name": "stdout",
     "output_type": "stream",
     "text": [
      "https://doi.org/10.5772/52592\n",
      "https://doi.org/10.1016/j.nimb.2013.10.003\n"
     ]
    },
    {
     "name": "stderr",
     "output_type": "stream",
     "text": [
      " 86%|████████▌ | 614/716 [02:03<00:14,  6.89it/s]"
     ]
    },
    {
     "name": "stdout",
     "output_type": "stream",
     "text": [
      "https://doi.org/10.1038/srep11546\n",
      "https://doi.org/10.1016/j.carbon.2010.06.004\n",
      "https://doi.org/10.1021/acs.jctc.7b00092\n"
     ]
    },
    {
     "name": "stderr",
     "output_type": "stream",
     "text": [
      " 86%|████████▌ | 617/716 [02:04<00:14,  6.60it/s]"
     ]
    },
    {
     "name": "stdout",
     "output_type": "stream",
     "text": [
      "https://doi.org/10.1016/j.actamat.2018.03.055\n",
      "https://doi.org/10.1103/physrevb.66.035205\n"
     ]
    },
    {
     "name": "stderr",
     "output_type": "stream",
     "text": [
      " 86%|████████▋ | 619/716 [02:04<00:13,  6.93it/s]"
     ]
    },
    {
     "name": "stdout",
     "output_type": "stream",
     "text": [
      "https://doi.org/10.1103/physrevb.81.235404\n",
      "https://doi.org/10.1007/s00894-018-3829-y\n"
     ]
    },
    {
     "name": "stderr",
     "output_type": "stream",
     "text": [
      " 87%|████████▋ | 620/716 [02:04<00:14,  6.45it/s]"
     ]
    },
    {
     "name": "stdout",
     "output_type": "stream",
     "text": [
      "https://doi.org/10.1016/j.nimb.2010.11.017\n",
      "https://doi.org/10.1016/j.actamat.2015.12.026\n"
     ]
    },
    {
     "name": "stderr",
     "output_type": "stream",
     "text": [
      " 87%|████████▋ | 622/716 [02:04<00:13,  6.83it/s]"
     ]
    },
    {
     "name": "stdout",
     "output_type": "stream",
     "text": [
      "https://doi.org/10.1016/j.jnoncrysol.2016.02.008\n",
      "https://doi.org/none_21013761\n"
     ]
    },
    {
     "name": "stderr",
     "output_type": "stream",
     "text": [
      " 87%|████████▋ | 624/716 [02:05<00:12,  7.10it/s]"
     ]
    },
    {
     "name": "stdout",
     "output_type": "stream",
     "text": [
      "https://doi.org/10.1103/physrevlett.91.098301\n",
      "https://doi.org/10.1088/0965-0393/21/3/035009\n"
     ]
    },
    {
     "name": "stderr",
     "output_type": "stream",
     "text": [
      " 88%|████████▊ | 627/716 [02:05<00:10,  8.17it/s]"
     ]
    },
    {
     "name": "stdout",
     "output_type": "stream",
     "text": [
      "https://doi.org/10.3329/jme.v40i2.5346\n",
      "https://doi.org/10.1002/polb.24539\n"
     ]
    },
    {
     "name": "stderr",
     "output_type": "stream",
     "text": [
      " 88%|████████▊ | 629/716 [02:05<00:09,  8.72it/s]"
     ]
    },
    {
     "name": "stdout",
     "output_type": "stream",
     "text": [
      "https://doi.org/10.1016/j.jmps.2019.103731\n",
      "https://doi.org/10.1073/pnas.1705978114\n"
     ]
    },
    {
     "name": "stderr",
     "output_type": "stream",
     "text": [
      " 88%|████████▊ | 631/716 [02:05<00:12,  6.81it/s]"
     ]
    },
    {
     "name": "stdout",
     "output_type": "stream",
     "text": [
      "https://doi.org/10.3390/met7120570\n",
      "https://doi.org/10.1080/14786430902832773\n"
     ]
    },
    {
     "name": "stderr",
     "output_type": "stream",
     "text": [
      " 89%|████████▊ | 634/716 [02:06<00:10,  7.72it/s]"
     ]
    },
    {
     "name": "stdout",
     "output_type": "stream",
     "text": [
      "https://doi.org/10.1016/j.jmps.2013.04.008\n",
      "https://doi.org/none_5285167\n",
      "https://doi.org/10.1080/02670836.2016.1204064\n"
     ]
    },
    {
     "name": "stderr",
     "output_type": "stream",
     "text": [
      " 89%|████████▉ | 637/716 [02:06<00:08,  8.84it/s]"
     ]
    },
    {
     "name": "stdout",
     "output_type": "stream",
     "text": [
      "https://doi.org/10.1155/2011/252591\n",
      "https://doi.org/10.3390/cryst8030116\n",
      "https://doi.org/10.1038/s41467-018-03972-9\n"
     ]
    },
    {
     "name": "stderr",
     "output_type": "stream",
     "text": [
      " 89%|████████▉ | 639/716 [02:06<00:08,  9.41it/s]"
     ]
    },
    {
     "name": "stdout",
     "output_type": "stream",
     "text": [
      "https://doi.org/10.1051/esomat/200903008\n",
      "https://doi.org/10.1016/j.jmps.2016.02.014\n",
      "https://doi.org/10.1080/14786430903258184\n"
     ]
    },
    {
     "name": "stderr",
     "output_type": "stream",
     "text": [
      " 90%|████████▉ | 643/716 [02:07<00:07,  9.91it/s]"
     ]
    },
    {
     "name": "stdout",
     "output_type": "stream",
     "text": [
      "https://doi.org/10.1038/srep18892\n",
      "https://doi.org/10.1529/biophysj.104.047332\n",
      "https://doi.org/10.3390/cryst8080321\n"
     ]
    },
    {
     "name": "stderr",
     "output_type": "stream",
     "text": [
      " 90%|█████████ | 645/716 [02:07<00:07,  8.95it/s]"
     ]
    },
    {
     "name": "stdout",
     "output_type": "stream",
     "text": [
      "https://doi.org/10.1016/j.carbon.2014.09.031\n",
      "https://doi.org/10.3390/ma10010088\n"
     ]
    },
    {
     "name": "stderr",
     "output_type": "stream",
     "text": [
      " 91%|█████████ | 648/716 [02:07<00:07,  8.74it/s]"
     ]
    },
    {
     "name": "stdout",
     "output_type": "stream",
     "text": [
      "https://doi.org/10.5772/36936\n",
      "https://doi.org/10.1016/j.ijsolstr.2014.11.025\n",
      "https://doi.org/10.1063/1.2124667\n"
     ]
    },
    {
     "name": "stderr",
     "output_type": "stream",
     "text": [
      " 91%|█████████ | 650/716 [02:08<00:07,  8.90it/s]"
     ]
    },
    {
     "name": "stdout",
     "output_type": "stream",
     "text": [
      "https://doi.org/10.1117/12.341254\n",
      "https://doi.org/10.1098/rspa.2005.1567\n"
     ]
    },
    {
     "name": "stderr",
     "output_type": "stream",
     "text": [
      " 91%|█████████ | 653/716 [02:08<00:06,  9.48it/s]"
     ]
    },
    {
     "name": "stdout",
     "output_type": "stream",
     "text": [
      "https://doi.org/10.2481/dsj.007-051\n",
      "https://doi.org/10.1038/srep40969\n",
      "https://doi.org/10.1063/1.5086167\n"
     ]
    },
    {
     "name": "stderr",
     "output_type": "stream",
     "text": [
      " 91%|█████████▏| 655/716 [02:08<00:07,  8.32it/s]"
     ]
    },
    {
     "name": "stdout",
     "output_type": "stream",
     "text": [
      "https://doi.org/10.1016/j.jcp.2011.12.006\n",
      "https://doi.org/10.1155/2016/8231592\n"
     ]
    },
    {
     "name": "stderr",
     "output_type": "stream",
     "text": [
      " 92%|█████████▏| 657/716 [02:09<00:08,  6.63it/s]"
     ]
    },
    {
     "name": "stdout",
     "output_type": "stream",
     "text": [
      "https://doi.org/10.1038/s41467-018-06166-5\n",
      "https://doi.org/10.1103/physrevb.85.125204\n"
     ]
    },
    {
     "name": "stderr",
     "output_type": "stream",
     "text": [
      " 92%|█████████▏| 658/716 [02:09<00:07,  7.30it/s]"
     ]
    },
    {
     "name": "stdout",
     "output_type": "stream",
     "text": [
      "https://doi.org/10.1021/jp801931d\n"
     ]
    },
    {
     "name": "stderr",
     "output_type": "stream",
     "text": [
      " 92%|█████████▏| 660/716 [02:09<00:09,  5.86it/s]"
     ]
    },
    {
     "name": "stdout",
     "output_type": "stream",
     "text": [
      "https://doi.org/10.1016/j.jmps.2018.03.008\n",
      "https://doi.org/10.1016/j.ijmecsci.2017.06.026\n"
     ]
    },
    {
     "name": "stderr",
     "output_type": "stream",
     "text": [
      " 92%|█████████▏| 662/716 [02:09<00:08,  6.47it/s]"
     ]
    },
    {
     "name": "stdout",
     "output_type": "stream",
     "text": [
      "https://doi.org/10.4208/cicp.oa-2017-0213\n",
      "https://doi.org/10.1137/16m106978x\n"
     ]
    },
    {
     "name": "stderr",
     "output_type": "stream",
     "text": [
      " 93%|█████████▎| 664/716 [02:10<00:06,  7.60it/s]"
     ]
    },
    {
     "name": "stdout",
     "output_type": "stream",
     "text": [
      "https://doi.org/10.1016/j.actamat.2003.11.026\n",
      "https://doi.org/10.1103/physrevb.37.6991\n"
     ]
    },
    {
     "name": "stderr",
     "output_type": "stream",
     "text": [
      " 93%|█████████▎| 666/716 [02:10<00:07,  7.11it/s]"
     ]
    },
    {
     "name": "stdout",
     "output_type": "stream",
     "text": [
      "https://doi.org/10.1016/j.ijsolstr.2011.06.022\n",
      "https://doi.org/10.1038/s41467-018-07102-3\n"
     ]
    },
    {
     "name": "stderr",
     "output_type": "stream",
     "text": [
      " 93%|█████████▎| 668/716 [02:10<00:06,  7.06it/s]"
     ]
    },
    {
     "name": "stdout",
     "output_type": "stream",
     "text": [
      "https://doi.org/10.1007/s10853-016-0569-1\n",
      "https://doi.org/10.1186/1556-276x-9-622\n"
     ]
    },
    {
     "name": "stderr",
     "output_type": "stream",
     "text": [
      " 94%|█████████▎| 670/716 [02:10<00:06,  7.08it/s]"
     ]
    },
    {
     "name": "stdout",
     "output_type": "stream",
     "text": [
      "https://doi.org/10.3897/rio.1.e7479\n",
      "https://doi.org/10.1088/0034-4885/78/6/066501\n"
     ]
    },
    {
     "name": "stderr",
     "output_type": "stream",
     "text": [
      " 94%|█████████▍| 672/716 [02:11<00:05,  7.85it/s]"
     ]
    },
    {
     "name": "stdout",
     "output_type": "stream",
     "text": [
      "https://doi.org/10.1016/j.mssp.2016.05.003\n",
      "https://doi.org/10.1016/j.jnucmat.2016.07.048\n"
     ]
    },
    {
     "name": "stderr",
     "output_type": "stream",
     "text": [
      " 94%|█████████▍| 674/716 [02:11<00:05,  7.37it/s]"
     ]
    },
    {
     "name": "stdout",
     "output_type": "stream",
     "text": [
      "https://doi.org/10.1103/physrevb.46.2250\n",
      "https://doi.org/10.1126/sciadv.aat8195\n"
     ]
    },
    {
     "name": "stderr",
     "output_type": "stream",
     "text": [
      " 94%|█████████▍| 675/716 [02:11<00:06,  6.83it/s]"
     ]
    },
    {
     "name": "stdout",
     "output_type": "stream",
     "text": [
      "https://doi.org/10.1007/s10409-012-0124-5\n",
      "https://doi.org/10.3390/cryst8020064\n"
     ]
    },
    {
     "name": "stderr",
     "output_type": "stream",
     "text": [
      " 95%|█████████▍| 678/716 [02:12<00:05,  6.59it/s]"
     ]
    },
    {
     "name": "stdout",
     "output_type": "stream",
     "text": [
      "https://doi.org/10.3390/polym10050475\n",
      "https://doi.org/10.3390/min4020208\n"
     ]
    },
    {
     "name": "stderr",
     "output_type": "stream",
     "text": [
      " 95%|█████████▍| 680/716 [02:12<00:05,  6.84it/s]"
     ]
    },
    {
     "name": "stdout",
     "output_type": "stream",
     "text": [
      "https://doi.org/10.1088/1742-6596/905/1/012018\n",
      "https://doi.org/10.1080/14686996.2017.1312519\n",
      "https://doi.org/10.1021/acsomega.8b01767\n"
     ]
    },
    {
     "name": "stderr",
     "output_type": "stream",
     "text": [
      " 95%|█████████▌| 683/716 [02:12<00:04,  6.62it/s]"
     ]
    },
    {
     "name": "stdout",
     "output_type": "stream",
     "text": [
      "https://doi.org/10.1088/1361-6668/aafa88\n",
      "https://doi.org/10.1038/ncomms10424\n"
     ]
    },
    {
     "name": "stderr",
     "output_type": "stream",
     "text": [
      " 96%|█████████▌| 686/716 [02:13<00:03,  7.56it/s]"
     ]
    },
    {
     "name": "stdout",
     "output_type": "stream",
     "text": [
      "https://doi.org/10.3390/cryst7080240\n",
      "https://doi.org/10.1109/sc.2016.6\n",
      "https://doi.org/10.1016/s1359-6454(99)00186-x\n"
     ]
    },
    {
     "name": "stderr",
     "output_type": "stream",
     "text": [
      " 96%|█████████▌| 687/716 [02:13<00:04,  7.10it/s]"
     ]
    },
    {
     "name": "stdout",
     "output_type": "stream",
     "text": [
      "https://doi.org/10.3390/met8020120\n",
      "https://doi.org/10.1038/s41598-017-08455-3\n"
     ]
    },
    {
     "name": "stderr",
     "output_type": "stream",
     "text": [
      " 96%|█████████▋| 690/716 [02:13<00:03,  7.42it/s]"
     ]
    },
    {
     "name": "stdout",
     "output_type": "stream",
     "text": [
      "https://doi.org/10.1103/physrevb.73.024116\n",
      "https://doi.org/10.1080/14786435.2018.1459059\n"
     ]
    },
    {
     "name": "stderr",
     "output_type": "stream",
     "text": [
      " 97%|█████████▋| 692/716 [02:14<00:03,  7.35it/s]"
     ]
    },
    {
     "name": "stdout",
     "output_type": "stream",
     "text": [
      "https://doi.org/10.1016/j.cocom.2018.e00330\n",
      "https://doi.org/10.1039/c4cp03781b\n"
     ]
    },
    {
     "name": "stderr",
     "output_type": "stream",
     "text": [
      " 97%|█████████▋| 695/716 [02:14<00:03,  6.78it/s]"
     ]
    },
    {
     "name": "stdout",
     "output_type": "stream",
     "text": [
      "https://doi.org/10.1038/s41524-017-0031-1\n",
      "https://doi.org/10.17632/wj2cy3kvy4.1\n",
      "https://doi.org/10.1016/j.cma.2011.01.012\n"
     ]
    },
    {
     "name": "stderr",
     "output_type": "stream",
     "text": [
      " 97%|█████████▋| 698/716 [02:14<00:02,  8.30it/s]"
     ]
    },
    {
     "name": "stdout",
     "output_type": "stream",
     "text": [
      "https://doi.org/10.1016/j.cpc.2015.03.015\n",
      "https://doi.org/10.1038/srep39708\n",
      "https://doi.org/10.3389/fchem.2013.00006\n"
     ]
    },
    {
     "name": "stderr",
     "output_type": "stream",
     "text": [
      " 98%|█████████▊| 700/716 [02:15<00:02,  7.90it/s]"
     ]
    },
    {
     "name": "stdout",
     "output_type": "stream",
     "text": [
      "https://doi.org/10.1016/j.susc.2007.12.023\n",
      "https://doi.org/10.1103/physrevb.65.224114\n",
      "https://doi.org/10.1088/0953-8984/28/10/105002\n"
     ]
    },
    {
     "name": "stderr",
     "output_type": "stream",
     "text": [
      " 98%|█████████▊| 702/716 [02:15<00:01,  7.60it/s]"
     ]
    },
    {
     "name": "stdout",
     "output_type": "stream",
     "text": [
      "https://doi.org/10.1103/physrevmaterials.2.113403\n",
      "https://doi.org/10.3390/catal8050192\n"
     ]
    },
    {
     "name": "stderr",
     "output_type": "stream",
     "text": [
      " 98%|█████████▊| 705/716 [02:15<00:01,  7.81it/s]"
     ]
    },
    {
     "name": "stdout",
     "output_type": "stream",
     "text": [
      "https://doi.org/none_26172483\n",
      "https://doi.org/10.1002/nme.944\n"
     ]
    },
    {
     "name": "stderr",
     "output_type": "stream",
     "text": [
      " 99%|█████████▉| 708/716 [02:16<00:00,  8.01it/s]"
     ]
    },
    {
     "name": "stdout",
     "output_type": "stream",
     "text": [
      "https://doi.org/10.1038/s41598-017-10096-5\n",
      "https://doi.org/10.18038/aubtda.405147\n",
      "https://doi.org/10.2514/6.2007-5313\n"
     ]
    },
    {
     "name": "stderr",
     "output_type": "stream",
     "text": [
      " 99%|█████████▉| 710/716 [02:16<00:00,  6.80it/s]"
     ]
    },
    {
     "name": "stdout",
     "output_type": "stream",
     "text": [
      "https://doi.org/10.1016/s0370-1573(02)00633-6\n",
      "https://doi.org/10.1080/00268970701730096\n"
     ]
    },
    {
     "name": "stderr",
     "output_type": "stream",
     "text": [
      " 99%|█████████▉| 712/716 [02:16<00:00,  7.93it/s]"
     ]
    },
    {
     "name": "stdout",
     "output_type": "stream",
     "text": [
      "https://doi.org/10.1016/j.surfcoat.2016.04.053\n",
      "https://doi.org/none_24264187\n",
      "https://doi.org/10.1007/s10659-010-9249-6\n"
     ]
    },
    {
     "name": "stderr",
     "output_type": "stream",
     "text": [
      "100%|█████████▉| 715/716 [02:17<00:00,  7.80it/s]"
     ]
    },
    {
     "name": "stdout",
     "output_type": "stream",
     "text": [
      "https://doi.org/10.1155/2013/641581\n",
      "https://doi.org/10.5772/17892\n"
     ]
    },
    {
     "name": "stderr",
     "output_type": "stream",
     "text": [
      "100%|██████████| 716/716 [02:17<00:00,  5.22it/s]"
     ]
    },
    {
     "name": "stdout",
     "output_type": "stream",
     "text": [
      "https://doi.org/10.1016/j.commatsci.2013.04.014\n"
     ]
    },
    {
     "name": "stderr",
     "output_type": "stream",
     "text": [
      "\n"
     ]
    }
   ],
   "source": [
    "graphs = []\n",
    "\n",
    "for doi in tqdm(dois):\n",
    "    url = 'https://api.semanticscholar.org/graph/v1/paper/DOI:{}?fields=citations,references'.format(doi[16:])\n",
    "    res = requests.get(url)\n",
    "\n",
    "    \n",
    "    if res.status_code == 200:\n",
    "        res_json = res.json()\n",
    "\n",
    "        graphs.append(res_json)\n",
    "    else:\n",
    "        print(doi)"
   ]
  },
  {
   "cell_type": "code",
   "execution_count": 23,
   "metadata": {},
   "outputs": [
    {
     "data": {
      "text/plain": [
       "204"
      ]
     },
     "execution_count": 23,
     "metadata": {},
     "output_type": "execute_result"
    }
   ],
   "source": [
    "len(graphs)"
   ]
  },
  {
   "cell_type": "code",
   "execution_count": 28,
   "metadata": {},
   "outputs": [
    {
     "name": "stdout",
     "output_type": "stream",
     "text": [
      "429\n",
      "{'message': 'Too Many Requests'}\n"
     ]
    }
   ],
   "source": [
    "url = 'https://api.semanticscholar.org/graph/v1/paper/DOI:10.1016/j.commatsci.2013.04.014?fields=citations,references'\n",
    "\n",
    "res = requests.get(url)\n",
    "print(res.status_code)\n",
    "print(res.json())"
   ]
  },
  {
   "cell_type": "code",
   "execution_count": 3,
   "metadata": {},
   "outputs": [
    {
     "data": {
      "text/plain": [
       "<Response [200]>"
      ]
     },
     "execution_count": 3,
     "metadata": {},
     "output_type": "execute_result"
    }
   ],
   "source": [
    "data"
   ]
  },
  {
   "cell_type": "code",
   "execution_count": 4,
   "metadata": {},
   "outputs": [
    {
     "data": {
      "text/plain": [
       "{'paperId': '649def34f8be52c8b66281af98ae884c09aef38b',\n",
       " 'citations': [{'paperId': 'b74aec118f2b62ae05b04f1b66ab79c2e5b873c0',\n",
       "   'title': 'MRT: Tracing the Evolution of Scientific Publications'},\n",
       "  {'paperId': '25b77db5bfca92029532ca70ee659fdf88db8484',\n",
       "   'title': 'SMAuC - The Scientific Multi-Authorship Corpus'},\n",
       "  {'paperId': '7e0fda71cc2e561385c0a2e29f5a81654a11157f',\n",
       "   'title': 'VarMAE: Pre-training of Variational Masked Autoencoder for Domain-adaptive Language Understanding'},\n",
       "  {'paperId': '4a236906f5bed6385c7b3bf3f10a0099e41d4566',\n",
       "   'title': 'Semantic-Native Communication: A Simplicial Complex Perspective'},\n",
       "  {'paperId': '97394fd6876dd10a0bdf233beb8216f16e074bee',\n",
       "   'title': 'Visual Exploration of Literature with Argo Scholar'},\n",
       "  {'paperId': '42b2fd8a0ab69281022de528c591c665f5f2ad3b',\n",
       "   'title': 'A Multi-Domain Benchmark for Personalized Search Evaluation'},\n",
       "  {'paperId': 'e92b2ada3a8112426946f3acd8991dbc74d4b311',\n",
       "   'title': 'KnowledgeShovel: An AI-in-the-Loop Document Annotation System for Scientific Knowledge Base Construction'},\n",
       "  {'paperId': '7a71bc2accc8423b69d136d82a2bc584b74e80a3',\n",
       "   'title': 'Communities as Vague Operators: Epistemological Questions for a Critical Heuristics of Community Detection Algorithms'},\n",
       "  {'paperId': '00f4e66a3eb2fa02063d83da1e5afe19242a282e',\n",
       "   'title': 'Clustering Semantic Predicates in the Open Research Knowledge Graph'},\n",
       "  {'paperId': '1b2139b38e6a9ded0c161a6bbed39a5cf09c03f0',\n",
       "   'title': 'A Dataset of Alt Texts from HCI Publications: Analyses and Uses Towards Producing More Descriptive Alt Texts of Data Visualizations in Scientific Papers'},\n",
       "  {'paperId': 'dfbe1fcd18742d71d2807506120aab24485491c8',\n",
       "   'title': 'Constructing marine expert management knowledge graph based on Trellisnet-CRF'},\n",
       "  {'paperId': 'c05a9797e5ead09d0885efa9f1b464d319f80709',\n",
       "   'title': 'Drug-Drug Interaction Extraction from Biomedical Text using Relation BioBERT with BLSTM'},\n",
       "  {'paperId': '33b7a611db06806a9e1d22ce5bb8bbeb2604b5f3',\n",
       "   'title': 'What evidence exists on the impact of sustainability initiatives on smallholder engagement in sustainable palm oil practices in Southeast Asia: a systematic map protocol'},\n",
       "  {'paperId': 'c1e0f6d36328cbdd03b7a8f111a518b8e3525e0f',\n",
       "   'title': 'A Knowledge Graph Approach towards Re-structuring of Scientific Articles'},\n",
       "  {'paperId': '2a49efd0657c7ace5a4e22ce9c484c94aab8a4b7',\n",
       "   'title': 'Performance Optimization for Semantic Communications: An Attention-Based Reinforcement Learning Approach'},\n",
       "  {'paperId': 'da2d3efdd74b1be17f5914461f9a1a6747a43fac',\n",
       "   'title': 'Scholarly knowledge graphs through structuring scholarly communication: a review'},\n",
       "  {'paperId': '06418696aa6a8438b1920edf516d576a9d9b7baa',\n",
       "   'title': 'The decentralized evolution of decentralization across fields: from Governance to Blockchain'},\n",
       "  {'paperId': '4f451ba06c4c9effd6c4ac0bae222495501a6200',\n",
       "   'title': 'Innovations in Neural Data-to-text Generation'},\n",
       "  {'paperId': '22568312b44961be20c453bfcbef53a78d7020be',\n",
       "   'title': 'Themes in Academic Literature: Prejudice and Social Justice'},\n",
       "  {'paperId': '782876a0eb86ea73808bb9e1423a34fa4dca28ef',\n",
       "   'title': 'Extractive Search for Analysis of Biomedical Texts'},\n",
       "  {'paperId': '6c7abf617c0591be96a09776092271c72f49ff2f',\n",
       "   'title': 'Complementary artificial intelligence designed to augment human discovery'},\n",
       "  {'paperId': '6ffc29d76c8c31988b5563ac08942bcf28de7bf3',\n",
       "   'title': 'Institutional Collaboration Recommendation: An expertise-based framework using NLP and Network Analysis'},\n",
       "  {'paperId': 'a4d581724fb604d13719b73f87a0457f007a43a4',\n",
       "   'title': 'Generating a Structured Summary of Numerous Academic Papers: Dataset and Method'},\n",
       "  {'paperId': '4a497123488f5790548406bd10384ae7b89c4315',\n",
       "   'title': 'Dynamic Spanning Trees for Connectivity Queries on Fully-dynamic Undirected Graphs'},\n",
       "  {'paperId': 'b222b76c91ce699852a1cdf16670de1bf10afdb3',\n",
       "   'title': 'Groundwater Rise and Associated Flooding in Coastal Settlements Due To Sea‐Level Rise: A Review of Processes and Methods'},\n",
       "  {'paperId': '3347bb7b0b95f1ebec61997983ce94d6896e8ea2',\n",
       "   'title': 'Research Topic Flows in Co-Authorship Networks'},\n",
       "  {'paperId': '192041215f6a1573fbbbbe323ee4275157fb6a3d',\n",
       "   'title': 'A Scoping Review of Species Distribution Modeling Methods for Tick Vectors'},\n",
       "  {'paperId': '686d9ee744fa013cc21cdd86acd864c936e9e456',\n",
       "   'title': 'Large Language Models are Zero-Shot Clinical Information Extractors'},\n",
       "  {'paperId': '844e2bc8c85ae33c69e8307ea0c0fba4f15be07b',\n",
       "   'title': 'Overview of STEM Science as Process, Method, Material, and Data Named Entities'},\n",
       "  {'paperId': '6cb77f85207c680ac442275138d2458a8505256b',\n",
       "   'title': 'ScholarBERT: Bigger is Not Always Better'},\n",
       "  {'paperId': 'f3aea1550dd58193eb14c1e1d485b90f4c8d130c',\n",
       "   'title': 'SchenQL: A query language for bibliographic data with aggregations and domain-specific functions'},\n",
       "  {'paperId': 'cb3192a6c28230190b7fdb7081e1ae94f059a736',\n",
       "   'title': 'Scim: Intelligent Skimming Support for Scientific Papers'},\n",
       "  {'paperId': '88b8569f4c5ea548e8eac6cb68896251e85ca879',\n",
       "   'title': 'OpenAlex: A fully-open index of scholarly works, authors, venues, institutions, and concepts'},\n",
       "  {'paperId': '607d657df1523b537308dc8936cb7472c07ec8f4',\n",
       "   'title': 'Medical Coding with Biomedical Transformer Ensembles and Zero/Few-shot Learning'},\n",
       "  {'paperId': 'c27c09cad5885ce508a12b5eac186e6a2b1d33fa',\n",
       "   'title': 'Further divided gender gaps in research productivity and collaboration during the COVID-19 pandemic: Evidence from coronavirus-related literature'},\n",
       "  {'paperId': '7ecb5b8c5456a4a6b1129527b1d96d2997d3ee5b',\n",
       "   'title': 'Mapping Research Trajectories'},\n",
       "  {'paperId': '56d1907288cbccf3dd502c0ebf071f124066f7b9',\n",
       "   'title': 'Dynamic Gaussian Embedding of Authors'},\n",
       "  {'paperId': 'eabccc3e2c6c17daea60e089ff6b42819a3d186c',\n",
       "   'title': 'GraphCite: Citation Intent Classification in Scientific Publications via Graph Embeddings'},\n",
       "  {'paperId': '3f2974192bae78d3ea9144279f24fa4da13d6e8a',\n",
       "   'title': 'From Books to Knowledge Graphs'},\n",
       "  {'paperId': '6d8b9829512f66a1fb92326dc4f6e2b314363625',\n",
       "   'title': 'S2AMP: A High-Coverage Dataset of Scholarly Mentorship Inferred from Publications'},\n",
       "  {'paperId': '5d1b955e38073fc13c82ba46801e300dc1a70a9b',\n",
       "   'title': 'BioAct: Biomedical Knowledge Base Construction using Active Learning'},\n",
       "  {'paperId': '0db5207510819b9956849eb84bfe8703f8f3688d',\n",
       "   'title': 'BioBART: Pretraining and Evaluation of A Biomedical Generative Language Model'},\n",
       "  {'paperId': 'bf0ba3559ecfa02175a15217d3b61afe10f09de7',\n",
       "   'title': 'An empirical study of the design choices for local citation recommendation systems'},\n",
       "  {'paperId': 'f11512e1213e756a4ed319e11fb4518b9fa17ccb',\n",
       "   'title': 'The evolution of scientific literature as metastable knowledge states'},\n",
       "  {'paperId': 'f2df1a1c2c157bf53233a6648deb5135746fec43',\n",
       "   'title': 'Assessment of contextualised representations in detecting outcome phrases in clinical trials'},\n",
       "  {'paperId': '8dc1e4bac2d0403ba4bec7bcb8abb7534c53ab1f',\n",
       "   'title': 'Automatic Related Work Generation: A Meta Study'},\n",
       "  {'paperId': '59c4df0f1dd75db4a5e25f4fb860040244949089',\n",
       "   'title': 'Improving the robustness and accuracy of biomedical language models through adversarial training'},\n",
       "  {'paperId': '17d7fd18123e12efbb9c255c8b986a5e84578b07',\n",
       "   'title': 'Time Waits for No One! Analysis and Challenges of Temporal Misalignment'},\n",
       "  {'paperId': '1346d703959399ba404f251290d0352f0631d242',\n",
       "   'title': 'Cross-lingual citations in English papers: a large-scale analysis of prevalence, usage, and impact'},\n",
       "  {'paperId': '4bfa4a1a29376f287992c2f02582110750a904bb',\n",
       "   'title': 'Investigation of improving the pre-training and fine-tuning of BERT model for biomedical relation extraction'},\n",
       "  {'paperId': '3ea8767b852253e2636b6e57925be7fcc1d739df',\n",
       "   'title': 'Systematic Inequalities in Language Technology Performance across the World’s Languages'},\n",
       "  {'paperId': '96b8611c3e8d887362df292522debe2c3cfa1def',\n",
       "   'title': 'Masader: Metadata Sourcing for Arabic Text and Speech Data Resources'},\n",
       "  {'paperId': 'b146be9e80c66a6e062a1525693311fac65ae19e',\n",
       "   'title': 'MatSciBERT: A materials domain language model for text mining and information extraction'},\n",
       "  {'paperId': '86bca4f379e5e626430193f6bc5731be027d043d',\n",
       "   'title': 'LG4AV: Combining Language Models and Graph Neural Networks for Author Verification'},\n",
       "  {'paperId': '61e06615f6cee5ed1ba7d22b801925b69a45653b',\n",
       "   'title': 'The Values Encoded in Machine Learning Research'},\n",
       "  {'paperId': 'f95620883ce631dcca296d6301ab094555a9b1c4',\n",
       "   'title': 'VILA: Improving Structured Content Extraction from Scientific PDFs Using Visual Layout Groups'},\n",
       "  {'paperId': 'dbcfccf5de3b80117085e1e1f25d9d297ed24dd7',\n",
       "   'title': 'OAG-BERT: Towards a Unified Backbone Language Model for Academic Knowledge Services'},\n",
       "  {'paperId': 'a155b53e05976d7d8801eeeb1a74dfd82639d543',\n",
       "   'title': 'Analysing the requirements for an Open Research Knowledge Graph: use cases, quality requirements, and construction strategies'},\n",
       "  {'paperId': 'e877fcfdddaeddd46f7f1afd70eb2e1c7a4bdfae',\n",
       "   'title': 'Longitudinal Citation Prediction using Temporal Graph Neural Networks'},\n",
       "  {'paperId': '95f4666c569ca863fa4ff2ab1447eaad7664b98b',\n",
       "   'title': 'REDI: Towards knowledge graph-powered scholarly information management and research networking'},\n",
       "  {'paperId': 'a0f3de926b682a53705f833ae273395678e80231',\n",
       "   'title': 'What use can and should ACL researchers make of the Cambridge Grammar of the English Language?'},\n",
       "  {'paperId': 'f339ab25cc1e784baa76896623dde732171b5634',\n",
       "   'title': 'API Deprecation: A Systematic Mapping Study'},\n",
       "  {'paperId': '464b1322ee1e91752f2c6c280058bbc0406f614a',\n",
       "   'title': 'Open Research Online Trans4E: Link Prediction on Scholarly Knowledge Graphs'},\n",
       "  {'paperId': 'dd9e10ce452aaae707835a97b5dcd1decae1825f',\n",
       "   'title': 'Benchmark for Research Theme Classification of Scholarly Documents'},\n",
       "  {'paperId': 'c649eb00d0ab538ce2ad6f738832e57cb316cb6b',\n",
       "   'title': 'Abstractive Approaches To Multidocument Summarization Of Medical Literature Reviews'},\n",
       "  {'paperId': 'f416d4abeee8fb5b3fcd12fb13912b5e879b16ea',\n",
       "   'title': 'Exploring the limits of a base BART for multi-document summarization in the medical domain'},\n",
       "  {'paperId': '6181dc0cfe0cb4e91c15900a99488267fe856df0',\n",
       "   'title': 'Multi-objective Representation Learning for Scientific Document Retrieval'},\n",
       "  {'paperId': '9843d4771366606368bc7e01065763af86f0c1aa',\n",
       "   'title': 'Overview of the Third Workshop on Scholarly Document Processing'},\n",
       "  {'paperId': '9ed3652b3351fff5e7a36a8f12cf3fcc9c30d823',\n",
       "   'title': 'CitRet: A Hybrid Model for Cited Text Span Retrieval'},\n",
       "  {'paperId': 'adf0ddcb8f924771db30bfba326b56d2633dbf46',\n",
       "   'title': 'Open Research Online The AIDA Dashboard: a Web Application for Assessing and Comparing Scientiﬁc Conferences'},\n",
       "  {'paperId': '2444de29193576f5c2b3444df81ce177dcbf14ba',\n",
       "   'title': 'Investigating Natural Language Interactions in Communities'},\n",
       "  {'paperId': 'b0fd71fa6be58f995aead66fa002a7ed3733f089',\n",
       "   'title': 'Going Beyond the Paradigm of Knowledge Graph Embedding Models'},\n",
       "  {'paperId': '6b40adbd16948d7aa6d92571b27aa510ef8ed462',\n",
       "   'title': 'ProcessBERT: A Pre-trained Language Model for Judging Equivalence of Variable Definitions in Process Models*'},\n",
       "  {'paperId': '1e88bbd27896449115841393040fbbe77a486477',\n",
       "   'title': 'Leveraging Knowledge Graph Technologies to Assess Journals and Conferences at Springer Nature'},\n",
       "  {'paperId': '9b05db2352c046b3b29bd9bf258cda8895d96d31',\n",
       "   'title': 'ConfliBERT: A Pre-trained Language Model for Political Conflict and Violence'},\n",
       "  {'paperId': 'e6f4006f8bc9867cbc33b0765e7831147ce5162e',\n",
       "   'title': 'Cross-Domain Detection of GPT-2-Generated Technical Text'},\n",
       "  {'paperId': '0df8db983bb491dca3dfd0deba6a7a74b23e08ad',\n",
       "   'title': 'A Programming Interface for Creating Data According to the SPAR Ontologies and the OpenCitations Data Model'},\n",
       "  {'paperId': 'd1ca07561b24afe8b1bd18dd1c239dbbbd221964',\n",
       "   'title': 'Scim: Intelligent Faceted Highlights for Interactive, Multi-Pass Skimming of Scientific Papers'},\n",
       "  {'paperId': 'b55a065d747be3954f930ab3a7370ea23b6a39b7',\n",
       "   'title': 'The AIDA Dashboard: a Web Application for Assessing and Comparing Scientific Conferences'},\n",
       "  {'paperId': '33059ea93b05ca18d1e9b0612901d22305c80910',\n",
       "   'title': 'Pipeline for retrieval of COVID-19 immune signatures'},\n",
       "  {'paperId': 'd7b9197e5cfff70f7797993ab6ad249ae9512b8c',\n",
       "   'title': 'Cross-lingual citations in English papers: a large-scale analysis of prevalence, usage, and impact'},\n",
       "  {'paperId': 'f6150ecb06e4abab36c4bb030dc914b576ee4170',\n",
       "   'title': 'Building an Accessible, Usable, Scalable, and Sustainable Service for Scholarly Big Data'},\n",
       "  {'paperId': '90d1c18f33ca7e8c44cff2c115f0ddf7faa94907',\n",
       "   'title': 'Search results diversification for effective fair ranking in academic search'},\n",
       "  {'paperId': '886a5ca5b6aeae63cef6e4eed468d9338c35fbcb',\n",
       "   'title': 'Grappling with the scale of born-digital government publications: Toward pipelines for processing and searching millions of PDFs'},\n",
       "  {'paperId': '12476eb0e9ea7cb313776228ccbf7657a1765887',\n",
       "   'title': 'Performance Optimization for Semantic Communications: An Attention-based Learning Approach'},\n",
       "  {'paperId': '1980f7230a4c1871cedc856ce836b8d1f62d10e8',\n",
       "   'title': 'CoBERT: Scientific Collaboration Prediction via Sequential Recommendation'},\n",
       "  {'paperId': '8306606fd04eddcdd527b03c728901ab632a084b',\n",
       "   'title': 'Triple Classification for Scholarly Knowledge Graph Completion'},\n",
       "  {'paperId': '0905b384bc98e40c5a9ca20027f5fab3fbc455b4',\n",
       "   'title': 'New trends in scientific knowledge graphs and research impact assessment'},\n",
       "  {'paperId': '67dcf28decf748534e1c0d22315d2d3aae54d7d4',\n",
       "   'title': 'AIDA: A knowledge graph about research dynamics in academia and industry'},\n",
       "  {'paperId': 'ee7cc3bf1f963f9eda26f43d5dc8265f6535f004',\n",
       "   'title': 'Evaluating BERT-based scientific relation classifiers for scholarly knowledge graph construction on digital library collections'},\n",
       "  {'paperId': '2f886811cf7cde2f0d9a19d821f46146f24e6e4a',\n",
       "   'title': 'Analysis of Language Embeddings for Classification of Unstructured Pathology Reports'},\n",
       "  {'paperId': 'cf84b177667efdb167dc944b39cafa1c7978c2b7',\n",
       "   'title': 'The Mont Blanc of Twitter: Identifying Hierarchies of Outstanding Peaks in Social Networks'},\n",
       "  {'paperId': '582616fe83a85f095a16778c28297723e25b0ea7',\n",
       "   'title': 'SciA11y: Converting Scientific Papers to Accessible HTML'},\n",
       "  {'paperId': 'fdea5396e8a945692a3449d9aae4dc7136cbd2a7',\n",
       "   'title': 'Modelling trend life cycles in scientific research using the Logistic and Gompertz equations'},\n",
       "  {'paperId': 'fbd10a298b4bee915f99224342bf0088cceb015d',\n",
       "   'title': 'Efficient Self-Supervised Metric Information Retrieval: A Bibliography Based Method Applied to COVID Literature'},\n",
       "  {'paperId': '5cc3379090fefad86d2d3e874364ba7babbcbca4',\n",
       "   'title': 'Towards Explainable Scientific Venue Recommendations'},\n",
       "  {'paperId': 'de9d0eb23b53034604bae487c127f4785ef779f5',\n",
       "   'title': 'Using BERT to identify drug-target interactions from whole PubMed'},\n",
       "  {'paperId': '6fbcb1b9dddff9641cb764f9f6c3ebfa516ce976',\n",
       "   'title': 'Pattern-based Acquisition of Scientific Entities from Scholarly Article Titles'},\n",
       "  {'paperId': 'd30e218ba0980d76cfd83e04739591e17f3933fe',\n",
       "   'title': 'Estimating Graph Dimension with Cross-validated Eigenvalues'},\n",
       "  {'paperId': 'beabb3d31625fbbdba7e720d4d5baa6aac5d7b16',\n",
       "   'title': 'Ambalytics: A Scalable and Distributed System Architecture Concept for Bibliometric Network Analyses'},\n",
       "  {'paperId': 'bf37e581f9d2447bf732b8502c8aff5141a88f06',\n",
       "   'title': 'ESRA: Explainable Scientific Research Assistant'},\n",
       "  {'paperId': '14857af0e19e2ccf9321de65d8950d5bc7c4dbbb',\n",
       "   'title': 'Analysing the requirements for an Open Research Knowledge Graph: use cases, quality requirements, and construction strategies'},\n",
       "  {'paperId': '0bee172e0d361aaed77f9677f59df944675f99b7',\n",
       "   'title': 'Hierarchical Attention Transformer Networks for Long Document Classification'},\n",
       "  {'paperId': '3ad0a7051db98a083aa3b9e962769ecf2cde4d44',\n",
       "   'title': 'Leveraging Domain Agnostic and Specific Knowledge for Acronym Disambiguation'},\n",
       "  {'paperId': '23c8ff06cc2dbd01388f60779583a0ebdae2fb14',\n",
       "   'title': 'TweetPap: A Dataset to Study the Social Media Discourse of Scientific Papers'},\n",
       "  {'paperId': 'd4e4a545160d8a6eba5338463168f51e8cbe411e',\n",
       "   'title': 'Linguistically Informed Masking for Representation Learning in the Patent Domain'},\n",
       "  {'paperId': 'd385a1b2db39a87f32095beee907fbcb67fb0b9f',\n",
       "   'title': 'Graphsurge'},\n",
       "  {'paperId': 'd2a3b3646a3d4cf1eccabbb8b980533e0836a3f5',\n",
       "   'title': 'Meta-research on COVID-19: An overview of the early trends'},\n",
       "  {'paperId': '87e367d76e5c63c834bf77b4f6ea8bce6cdb5553',\n",
       "   'title': 'End-to-End NLP Knowledge Graph Construction'},\n",
       "  {'paperId': 'f70d4f4dd51b43444d0d612e54711bef0fb4fa14',\n",
       "   'title': 'Trans4E: Link Prediction on Scholarly Knowledge Graphs'},\n",
       "  {'paperId': '69285c9040c1356272752499b7e1e53ef25ac008',\n",
       "   'title': 'Beyond Paragraphs: NLP for Long Sequences'},\n",
       "  {'paperId': '8c19883bc33282985af977fd3f3cc4b6ac5b15d3',\n",
       "   'title': 'Determining the Credibility of Science Communication'},\n",
       "  {'paperId': '90614889fe7dcd3c56849e94a7dbf455d11c1834',\n",
       "   'title': 'An Explanatory Query-Based Framework for Exploring Academic Expertise'},\n",
       "  {'paperId': '91ad9c6345723717b9cf77727482195834620060',\n",
       "   'title': 'CiteWorth: Cite-Worthiness Detection for Improved Scientific Document Understanding'},\n",
       "  {'paperId': '97dc4d4620c2b2d12d6b07a4127f3fddcf126b94',\n",
       "   'title': 'Learning to Classify Morals and Conventions: Artificial Intelligence in Terms of the Economics of Convention'},\n",
       "  {'paperId': 'f9f19505a45a76c39e394cccea050d20e425de17',\n",
       "   'title': 'A Measure of Research Taste'},\n",
       "  {'paperId': 'c4358134954d8e62939c3a8b9ba8e953d951f73b',\n",
       "   'title': 'Including Signed Languages in Natural Language Processing'},\n",
       "  {'paperId': 'a83902f8b3aadfda633968a840ca1738bedef837',\n",
       "   'title': 'Modeling Graph Structure via Relative Position for Text Generation from Knowledge Graphs'},\n",
       "  {'paperId': '4fb435fe5c3c84721e07653bafda3caadf2ebffb',\n",
       "   'title': 'A survey of domains in workflow scheduling in computing infrastructures: Community and keyword analysis, emerging trends, and taxonomies'},\n",
       "  {'paperId': '3d59ad3f87f80bb3382ec91bb9ec636515547ab1',\n",
       "   'title': 'What Makes a Scientific Paper be Accepted for Publication?'},\n",
       "  {'paperId': '1b78ca26e161bc824e75cf5b3d582a3561a1a16e',\n",
       "   'title': 'Crowdsourcing Scholarly Discourse Annotations'},\n",
       "  {'paperId': 'd25121da56c9050137800c69520111b30201d1ed',\n",
       "   'title': 'MSˆ2: Multi-Document Summarization of Medical Studies'},\n",
       "  {'paperId': 'c15854c9cb2df5e58380b3aefbdd2b0bc55ebca4',\n",
       "   'title': 'On the Impact of Knowledge-based Linguistic Annotations in the Quality of Scientific Embeddings'},\n",
       "  {'paperId': '88d3229660f8f67e0bfd9689b0cf9ef08ad92106',\n",
       "   'title': 'Paragraph-level Simplification of Medical Texts'},\n",
       "  {'paperId': 'd331de3b6bebb0f9af1fddf1b730ec057a7026d4',\n",
       "   'title': 'Relational World Knowledge Representation in Contextual Language Models: A Review'},\n",
       "  {'paperId': '76e31cac217d8af2dc91b6dbe5265c8066fffa46',\n",
       "   'title': 'Accelerating science with human versus alien artificial intelligences'},\n",
       "  {'paperId': '54a516aedb5668a67070f70a9f895c8d7391a86d',\n",
       "   'title': 'Topic-aware Neural Linguistic Steganography Based on Knowledge Graphs'},\n",
       "  {'paperId': '10247d86d6b9ea3218d73b1e64ea7ed4b1121752',\n",
       "   'title': 'Improving University Faculty Evaluations via multi-view Knowledge Graph'},\n",
       "  {'paperId': '879eaab2275a364549809560b42f0fef357ebbce',\n",
       "   'title': 'BERT: A Review of Applications in Natural Language Processing and Understanding'},\n",
       "  {'paperId': '9fd46013a7188a76da0d610fc54d8879200cce17',\n",
       "   'title': 'Proximity dimensions and the emergence of collaboration: a HypTrails study on German AI research'},\n",
       "  {'paperId': 'c3b19870cbd320ad554498139e474644768576b6',\n",
       "   'title': 'A bibliometric analysis of citation diversity in accessibility and HCI research'},\n",
       "  {'paperId': '50068fbea4d1cafcf4c99873ab272c701c08dfcb',\n",
       "   'title': 'OAG-BERT: Pre-train Heterogeneous Entity-augmented Academic Language Models'},\n",
       "  {'paperId': '04eb972bda6e775d5a15ee49541afca3e3cc93db',\n",
       "   'title': 'Boosting Low-Resource Biomedical QA via Entity-Aware Masking Strategies'},\n",
       "  {'paperId': '69b184f62c97513b03deed96a1443f79b34af0d7',\n",
       "   'title': 'Making Paper Reviewing Robust to Bid Manipulation Attacks'},\n",
       "  {'paperId': '5ea19f443aa86001147caf5b874c75e2d407a246',\n",
       "   'title': 'Classifying Scientific Publications with BERT - Is Self-Attention a Feature Selection Method?'},\n",
       "  {'paperId': 'dd4fce116399fc3becba6ede2afbe48958b32506',\n",
       "   'title': 'Deep dynamic neural networks for temporal language modeling in author communities'},\n",
       "  {'paperId': '2d7d78b95c48b09359fd86ab0108328d69101719',\n",
       "   'title': 'Searching relevant papers for software engineering secondary studies: Semantic Scholar coverage and identification role'},\n",
       "  {'paperId': 'e4f0fac0f64945b5b2d91d45541b5b2ebbf993c5',\n",
       "   'title': 'Automatization and self-maintenance of the O-GlcNAcome catalog: a smart scientific database'},\n",
       "  {'paperId': 'f8d11695f7f9d7325b9043f3b39fc623eeff9d4d',\n",
       "   'title': 'Self-Supervised Learning for Visual Summary Identification in Scientific Publications'},\n",
       "  {'paperId': 'c562d4c311a603ea768b9f002b4fccda617e4543',\n",
       "   'title': 'Using drug descriptions and molecular structures for drug–drug interaction extraction from literature'},\n",
       "  {'paperId': '03dc6ccb0b04d5eb6439c33c185bdd1fe892b76e',\n",
       "   'title': 'Machine Knowledge: Creation and Curation of Comprehensive Knowledge Bases'},\n",
       "  {'paperId': '19af8292ff3cc10aad6f190490f0d34691658179',\n",
       "   'title': 'Investigating Pretrained Language Models for Graph-to-Text Generation'},\n",
       "  {'paperId': '097bd00d48281dfb987cc2277b34f7706c2aa0ef',\n",
       "   'title': 'Graphsurge: Graph Analytics on View Collections Using Differential Computation'},\n",
       "  {'paperId': '15e1af8533cd810e976d36845b53f5f54744608a',\n",
       "   'title': 'Multilevel Graph-Based Decision Making in Big Scholarly Data: An Approach to Identify Expert Reviewer, Finding Quality Impact Factor, Ranking Journals and Researchers'},\n",
       "  {'paperId': 'fb3dc58cb17c54b997e6301cbde7773f77427833',\n",
       "   'title': 'Parameter-Efficient Domain Knowledge Integration from Multiple Sources for Biomedical Pre-trained Language Models'},\n",
       "  {'paperId': '2a3bfb2fe1e2065de6ac0b66b28b0dcdb5d233e3',\n",
       "   'title': 'Geography of eco-innovations vis-à-vis geography of sustainability transitions: Two sides of the same coin?'},\n",
       "  {'paperId': '77994c9c7ec19a07173b88fb45a8900b6616dd03',\n",
       "   'title': 'TADPOLE: Task ADapted Pre-Training via AnOmaLy DEtection'},\n",
       "  {'paperId': '5456edaf6daf86cde1b38a8dbbee9ccae12070f9',\n",
       "   'title': 'Generative Adversarial Networks based on Mixed-Attentions for Citation Intent Classification in Scientific Publications'},\n",
       "  {'paperId': '44e34bddc5f0bf794b40271f958159970ff973ef',\n",
       "   'title': 'Generalized Supervised Attention for Text Generation'},\n",
       "  {'paperId': '959927c3bdc254d0c02583d47f35654d53c4d6ef',\n",
       "   'title': 'Taming Pre-trained Language Models with N-gram Representations for Low-Resource Domain Adaptation'},\n",
       "  {'paperId': '20c8536a38acfa10c7af21063e3f7725632d2879',\n",
       "   'title': 'Improving On-line Scientific Resource Profiling by Exploiting Resource Citation Information in the Literature'},\n",
       "  {'paperId': '8c5d61f0e97ba558622ca0bdff16652a71030a50',\n",
       "   'title': 'Topic space trajectories'},\n",
       "  {'paperId': '6407b8cc05e839d59ea0b7a7eceb61ee3e5fc46f',\n",
       "   'title': 'Incorporating Visual Layout Structures for Scientific Text Classification'},\n",
       "  {'paperId': 'ee6564e2e0f47c6ac131b093f057ca75907958c9',\n",
       "   'title': 'BioELECTRA:Pretrained Biomedical text Encoder using Discriminators'},\n",
       "  {'paperId': '56fbb4152b4535230827eb2bd23c618045855c26',\n",
       "   'title': 'Improving the Accessibility of Scientific Documents: Current State, User Needs, and a System Solution to Enhance Scientific PDF Accessibility for Blind and Low Vision Users'},\n",
       "  {'paperId': '8147e139813920cc42acfff9f07165ec40c3c03b',\n",
       "   'title': 'Under optimistic projection models , gender parity is forecast to be reached after 2100'},\n",
       "  {'paperId': 'f03f38647a616a3471183f587f2b3684a9a3057f',\n",
       "   'title': 'Using Transfer Learning for Detecting Drug Mentions in Tweets'},\n",
       "  {'paperId': 'dcaf764feb4bfe9ce5a51546af2ba9d91cb1e912',\n",
       "   'title': 'Discovery of Research Trends in Computer Science Education on Ethics Using Topic Modeling'},\n",
       "  {'paperId': 'cf479ea1cba51b7083702a918001fbc667bdff1c',\n",
       "   'title': 'Mining Author Identifiers for PubMed by Linking to Open Bibliographic Databases'},\n",
       "  {'paperId': '3fd81526f7160d2dba1d943ef7a0862bb7fa0531',\n",
       "   'title': 'Open4Business(O4B): An Open Access Dataset for Summarizing Business Documents'},\n",
       "  {'paperId': 'ce1715982ba4ae45ed235e11142238485b0db9fe',\n",
       "   'title': 'Analysis and Evaluation of COVID-19 Web Applications for Health Professionals: Challenges and Opportunities'},\n",
       "  {'paperId': '0f5843cd34c3d12a07769cee510a007d94dd44c1',\n",
       "   'title': 'University of Washington at TREC 2020 Fairness Ranking Track'},\n",
       "  {'paperId': '2f014ed269c77bdf1286bb540278199fb45adea1',\n",
       "   'title': 'Tab2Know: Building a Knowledge Base from Tables in Scientific Papers'},\n",
       "  {'paperId': '823fe97a65f34abbc60f33179751b808ce60919f',\n",
       "   'title': 'Where to Submit? Helping Researchers to Choose the Right Venue'},\n",
       "  {'paperId': '76ad0d37bd3845431b3ca9d07f8db74c82752298',\n",
       "   'title': 'Pretrained Language Models for Biomedical and Clinical Tasks: Understanding and Extending the State-of-the-Art'},\n",
       "  {'paperId': '59da4f7d85967d922b5d674779ffcee06f186c73',\n",
       "   'title': 'Investigation of BERT Model on Biomedical Relation Extraction Based on Revised Fine-tuning Mechanism'},\n",
       "  {'paperId': '42044639a2fe3d53daed715a4dd4bc4536361058',\n",
       "   'title': 'A New Neural Search and Insights Platform for Navigating and Organizing AI Research'},\n",
       "  {'paperId': '2c3211e0fc4a02a05e4874c9daf36fd2c75456d7',\n",
       "   'title': 'Topic Space Trajectories: A case study on machine learning literature'},\n",
       "  {'paperId': 'fc5f304e56b1724dfd6b09845b1edf4efe592341',\n",
       "   'title': 'Biomedical Question Answering: A Survey of Methods and Datasets'},\n",
       "  {'paperId': '0285f5112a3bcc4c8f8d6ec1732e921495aed067',\n",
       "   'title': 'Multimodal Knowledge Graph for Deep Learning Papers and Code'},\n",
       "  {'paperId': '8af3de56807c32172b06982cf785c9c8b14d117a',\n",
       "   'title': 'TweetBERT: A Pretrained Language Representation Model for Twitter Text Analysis'},\n",
       "  {'paperId': '9c3c76a0f0c289fa814038ce44fee39a7fba7be7',\n",
       "   'title': 'Effective distributed representations for academic expert search'},\n",
       "  {'paperId': 'b9ece2558147a1ec16be1257f5b3b84b34e2d608',\n",
       "   'title': 'Improving Access to Scientific Literature with Knowledge Graphs'},\n",
       "  {'paperId': '32f84107d956e24dbe02a9b80d38239237ff1096',\n",
       "   'title': 'ReviewRobot: Explainable Paper Review Generation based on Knowledge Synthesis'},\n",
       "  {'paperId': 'e663f431579bdde874795c4e0ae6b58249de695f',\n",
       "   'title': 'PARADE: A New Dataset for Paraphrase Identification Requiring Computer Science Domain Knowledge'},\n",
       "  {'paperId': '3b2664a15b46e95eecb9573f21c36892037b0264',\n",
       "   'title': 'Infusing Disease Knowledge into BERT for Health Question Answering, Medical Inference and Disease Name Recognition'},\n",
       "  {'paperId': '284fd250280c07b64a1a1c69abf098f02d632e8a',\n",
       "   'title': 'Simplicial Neural Networks'},\n",
       "  {'paperId': '2e747fb6aec192e89ac8b3fc98f56f4a55f8bb71',\n",
       "   'title': 'A narrowing of AI research?'},\n",
       "  {'paperId': '4532329a2dcb3fa3f4c623906166a049eca830a4',\n",
       "   'title': 'Open Information Extraction for Knowledge Graph Construction'},\n",
       "  {'paperId': '0f897cad22f8485a0ac0c3f34b5130eed0eb4fc9',\n",
       "   'title': 'An Improved Mask Approach Based on Pointer Network for Domain Adaptation of BERT'},\n",
       "  {'paperId': 'f945c65983d746aa66482e86e338a2388bdeff76',\n",
       "   'title': 'Using Graphlet Spectrograms for Temporal Pattern Analysis of Virus-Research Collaboration Networks'},\n",
       "  {'paperId': 'b336492cc1a8de095a57fe0684f142816f32d045',\n",
       "   'title': 'A Black-Box Fork-Join Latency Prediction Model for Data-Intensive Applications'},\n",
       "  {'paperId': '0e7233e912acd3cb7890c67a6a4640280f9f966e',\n",
       "   'title': 'Integrating Knowledge Graphs for Analysing Academia and Industry Dynamics'},\n",
       "  {'paperId': '2e5b7cc1eaef2f22e3e52778f8444ab7c76e16d1',\n",
       "   'title': 'Author Contributed Representation for Scholarly Network'},\n",
       "  {'paperId': 'b0dddc7f5cdce8783bd4a5080feaf41caa27068d',\n",
       "   'title': 'Elsevier OA CC-By Corpus'},\n",
       "  {'paperId': 'cc1e9e8d298384337625949171847ff8401044cc',\n",
       "   'title': 'ADBIS, TPDL and EDA 2020 Common Workshops and Doctoral Consortium: International Workshops: DOING, MADEISD, SKG, BBIGAP, SIMPDA, AIMinScience 2020 and Doctoral Consortium, Lyon, France, August 25–27, 2020, Proceedings'},\n",
       "  {'paperId': '25df3ad90556815045b9497a8e794ec58f1f8cc9',\n",
       "   'title': 'Visualising Large Document Collections by Jointly Modeling Text and Network Structure'},\n",
       "  {'paperId': '3f04900ff0b01b2912625967407cc53188212893',\n",
       "   'title': 'A Micro Perspective of Research Dynamics Through “Citations of Citations” Topic Analysis'},\n",
       "  {'paperId': 'e39a0dfe48da9a51defb80fb4b839418e2981b8d',\n",
       "   'title': 'COVID-19 Knowledge Graph: Accelerating Information Retrieval and Discovery for Scientific Literature'},\n",
       "  {'paperId': '2d62dea4e7d97b5cb69174504371503b57c93bf1',\n",
       "   'title': 'NLPContributions: An Annotation Scheme for Machine Reading of Scholarly Contributions in Natural Language Processing Literature'},\n",
       "  {'paperId': '856b12bc3b99db662e93def08e49db73c1df5e79',\n",
       "   'title': 'Modeling Graph Structure via Relative Position for Better Text Generation from Knowledge Graphs'},\n",
       "  {'paperId': '82af9bb84594d4fce17a5fb88888f8bdade0cd58',\n",
       "   'title': 'High-Precision Extraction of Emerging Concepts from Scientific Literature'},\n",
       "  {'paperId': 'e8b8ef7629a16435945b40cb01b15cf1e537adcf',\n",
       "   'title': 'Constructing and evaluating automated literature review systems'},\n",
       "  {'paperId': '1fb1c749be01442d669b98b41cb2aadb58671f58',\n",
       "   'title': 'ReviewerNet: A visualization platform for the selection of academic reviewers'},\n",
       "  {'paperId': '36e087d57302c2c7138fae2394876db244f06864',\n",
       "   'title': 'The OpenCitations Data Model'},\n",
       "  {'paperId': '0df9d9ab06e8418dc23967f81a44629273765ccf',\n",
       "   'title': 'Requirements Analysis for an Open Research Knowledge Graph'},\n",
       "  {'paperId': '10853ea84c7d4aeda17a4002370ff56048fd7e61',\n",
       "   'title': 'Building a PubMed knowledge graph'},\n",
       "  {'paperId': '5b928047a634f26d7a1871d173058a6fe578fa60',\n",
       "   'title': 'Cited text span identification for scientific summarisation using pre-trained encoders'},\n",
       "  {'paperId': '97e05d10a4530984d54cbd86b36574d70afbdced',\n",
       "   'title': 'Embedding-Based Recommendations on Scholarly Knowledge Graphs'},\n",
       "  {'paperId': '17d63c3b79872832dd28dba7412a437b17730b2b',\n",
       "   'title': 'A Survey and Annotated Bibliography of Workflow Scheduling in Computing Infrastructures: Community, Keyword, and Article Reviews - Extended Technical Report'},\n",
       "  {'paperId': 'a3e4ceb42cbcd2c807d53aff90a8cb1f5ee3f031',\n",
       "   'title': 'SPECTER: Document-level Representation Learning using Citation-informed Transformers'},\n",
       "  {'paperId': '57dc1eec85b7c0490ce00d4f02c660b7c0b06f05',\n",
       "   'title': 'Improving Scholarly Knowledge Representation: Evaluating BERT-based Models for Scientific Relation Classification'},\n",
       "  {'paperId': '1c2f8d2a68bcc6c9d6c79a26e4c6f70be445660d',\n",
       "   'title': 'SciWING– A Software Toolkit for Scientific Document Processing'},\n",
       "  {'paperId': '271a21ae3caa4bc4f246acb3a01a6d56453d77c2',\n",
       "   'title': 'TRENDNERT: A Benchmark for Trend and Downtrend Detection in a Scientific Domain'},\n",
       "  {'paperId': '021e2ed2adba030f5d02e60722ffcd4674f02653',\n",
       "   'title': 'Evaluating the Calibration of Knowledge Graph Embeddings for Trustworthy Link Prediction'},\n",
       "  {'paperId': 'bbd158ee7f7026ecf18750a0b265b3c01cbc0e6c',\n",
       "   'title': 'Improving the Utility of Knowledge Graph Embeddings with Calibration'},\n",
       "  {'paperId': '76cfdaa82cd4c074cb4a1c7f49ade8573ae054ab',\n",
       "   'title': 'Explanation-Based Tuning of Opaque Machine Learners with Application to Paper Recommendation'},\n",
       "  {'paperId': '6ed8cbabf7ac2e23129b401b614f1eb46c148638',\n",
       "   'title': 'LIMEADE: From AI Explanations to Advice Taking'},\n",
       "  {'paperId': 'd2cba7d6a820931120ca7f1b06df566d06b0a793',\n",
       "   'title': 'LIMEADE: From AI Explanations to Advice Taking'},\n",
       "  {'paperId': '4559600f2ba644d41a7580362d3fcfd5c363b814',\n",
       "   'title': 'The STEM-ECR Dataset: Grounding Scientific Entity References in STEM Scholarly Content to Authoritative Encyclopedic and Lexicographic Sources'},\n",
       "  {'paperId': '92d58d5a303be4587785489c7ecd3490950ccbe0',\n",
       "   'title': 'GASP! Generating Abstracts of Scientific Papers from Abstracts of Cited Papers'},\n",
       "  {'paperId': '6d129c35f032cc6480a8f774a1f3dd45a96c4724',\n",
       "   'title': 'Characterizing the Dynamics of Academic Affiliations: A Network Science Approach'},\n",
       "  {'paperId': '5f2440c0b18a8e0d5b0a994087e752c19f82bbc7',\n",
       "   'title': 'Aspect-Based Academic Search Using Domain-Specific KB'},\n",
       "  {'paperId': '3d733e63d44bddd235a41e47cf0718ff5e70b8e1',\n",
       "   'title': 'Navigation-Based Candidate Expansion and Pretrained Language Models for Citation Recommendation'},\n",
       "  {'paperId': '3c6978ed377ace2b921748f40b0d7431ebbfeb7c',\n",
       "   'title': 'Domain-Independent Extraction of Scientific Concepts from Research Articles'},\n",
       "  {'paperId': 'f216bc6460be4477674656e0a9682c1e9d3b2157',\n",
       "   'title': 'Hydro-graph: A knowledge graph for hydrogen research trends and relations'},\n",
       "  {'paperId': 'bb6adeeb3a21479cc45490a5c2ff6d8dd5e77603',\n",
       "   'title': 'Knowledge-based Biomedical Data Science 2019'},\n",
       "  {'paperId': 'c9d24ac34cb9d3cc015f926a2a77b4571162311c',\n",
       "   'title': 'The Workflow Trace Archive: Open-Access Data From Public and Private Computing Infrastructures'},\n",
       "  {'paperId': '50fe89d2109f1f186e5e91aa8a7853d92a85daee',\n",
       "   'title': 'Evaluating Pretrained Transformer Models for Citation Recommendation'},\n",
       "  {'paperId': '1955c6821a5dd94baaa3fe96f4e50c071f6fa87e',\n",
       "   'title': 'ScholarLensViz: A Visualization Framework for Transparency in Semantic User Profiles'},\n",
       "  {'paperId': '3faccd2f58466e1767957dda6faa6c29b393cef4',\n",
       "   'title': 'The Semantic Web: 17th International Conference, ESWC 2020, Heraklion, Crete, Greece, May 31–June 4, 2020, Proceedings'},\n",
       "  {'paperId': '8e3a0f13c8a15c083e12d8dd7b04a7c20a824f7e',\n",
       "   'title': 'PRETRAINED LANGUAGE MODELS FOR CITATION RECOMMENDATION'},\n",
       "  {'paperId': 'ed6fd27098368d64534d27082743d7c3622f522e',\n",
       "   'title': '19-Chen Xiaoli.indd'},\n",
       "  {'paperId': '5c5751d45e298cea054f32b392c12c61027d2fe7',\n",
       "   'title': 'S2ORC: The Semantic Scholar Open Research Corpus'},\n",
       "  {'paperId': '0a1d68fd1aeff6dabda9a15668fba8f3c0fd94b4',\n",
       "   'title': 'UvA-DARE (Digital Academic The OpenCitations Data Model'},\n",
       "  {'paperId': 'f91ac07cc5716c25304ebe4385ec3b41b67f57b9',\n",
       "   'title': 'University of Glasgow Terrier Team at the TREC 2020 Fair Ranking Track'},\n",
       "  {'paperId': '738349f595421b70f80a8d8fed7f70e55fa5f475',\n",
       "   'title': 'The University of Maryland at the TREC 2020 Fair Ranking Track'},\n",
       "  {'paperId': '9519b72e2bf6906af33b431a0ea58a8c1e4c48b1',\n",
       "   'title': 'Graph To Coherent Text: Passage Generation from Knowledge Graphs by Exploiting Edge Representations in Sentential Contexts'},\n",
       "  {'paperId': '5f68c2fc47408d10013c36664495b1a489087053',\n",
       "   'title': 'Digital Libraries at Times of Massive Societal Transition: 22nd International Conference on Asia-Pacific Digital Libraries, ICADL 2020, Kyoto, Japan, November 30 – December 1, 2020, Proceedings'},\n",
       "  {'paperId': '4d515133e301691863dc81e5c73046b2eab0f3f7',\n",
       "   'title': 'PreFace: Faceted Retrieval of Prerequisites Using Domain-Specific Knowledge Bases'},\n",
       "  {'paperId': 'd05ebd2299bc8007edf9422eb2f7b4466e3cf4f4',\n",
       "   'title': 'Database and Expert Systems Applications: DEXA 2020 International Workshops BIOKDD, IWCFS and MLKgraphs, Bratislava, Slovakia, September 14–17, 2020, Proceedings'},\n",
       "  {'paperId': 'a997d6e253f08a3e589432c611d6d2a3097d7629',\n",
       "   'title': 'Research Exchange-A Collaborative Paper Annotation Tool'},\n",
       "  {'paperId': '1dd19753c01476612db6f668967ded7b859deb83',\n",
       "   'title': 'A Practical Guide to Hybrid Natural Language Processing: Combining Neural Models and Knowledge Graphs for NLP'},\n",
       "  {'paperId': 'cdede45f350038a46bac239d6ff8c548ac2945ee',\n",
       "   'title': 'Self-supervised context-aware COVID-19 document exploration through atlas grounding'},\n",
       "  {'paperId': '7737b2f4f956e2517087a4be04cd9e1af70961ea',\n",
       "   'title': 'Large-scale semantic exploration of scientific literature using topic-based hashing algorithms'},\n",
       "  {'paperId': '2f105cb440bc5cf7260071f407c39bbde89dd265',\n",
       "   'title': 'Exploratory Search for Scientific Articles'},\n",
       "  {'paperId': 'd230862f33946a3572ff7df78bfc0aaa726cd787',\n",
       "   'title': 'GORC: A large contextual citation graph of academic papers'},\n",
       "  {'paperId': '0542eafef8abab8e4d0ec467d2e163da7e609130',\n",
       "   'title': 'Epistemic stance and the construction of knowledge in science writing: A diachronic corpus study'},\n",
       "  {'paperId': '558adccd5dc482be3a17169ba1a921ea4b74101d',\n",
       "   'title': 'Fine-Grained Object Detection over Scientific Document Images with Region Embeddings'},\n",
       "  {'paperId': '5d058aadc2e938f421d0acae6dcdad3be35bc8fd',\n",
       "   'title': 'Conflict and Cooperation: AI Research and Development in terms of the Economy of Conventions'},\n",
       "  {'paperId': 'e822040837cdb5831e6dfcc25aeb5bd5bd23c9a9',\n",
       "   'title': 'Look, Read and Enrich - Learning from Scientific Figures and their Captions'},\n",
       "  {'paperId': '515ae2953e7312dc410b94f561a4296f8e1cbdc0',\n",
       "   'title': 'Learning Dynamic Author Representations with Temporal Language Models'},\n",
       "  {'paperId': 'a550ad9d7f47b65f7788287a23717a4f7c5b75c7',\n",
       "   'title': 'Pretrained Language Models for Sequential Sentence Classification'},\n",
       "  {'paperId': 'c5db7a49d55f8b542daae60f3d14546115b1498b',\n",
       "   'title': 'Sentence-Level Content Planning and Style Specification for Neural Text Generation'},\n",
       "  {'paperId': 'dcd627cf71af44b1a140d5b3e7503cb3251bee58',\n",
       "   'title': 'Sieg at MEDIQA 2019: Multi-task Neural Ensemble for Biomedical Inference and Entailment'},\n",
       "  {'paperId': '115617d09807325bd18c42deedd6cab435f90563',\n",
       "   'title': 'Identification of Tasks, Datasets, Evaluation Metrics, and Numeric Scores for Scientific Leaderboards Construction'},\n",
       "  {'paperId': '066abf7409baf051b1c70cf3464c80040a8021c7',\n",
       "   'title': 'On Applying Metamorphic Testing: An Empirical Study on Academic Search Engines'},\n",
       "  {'paperId': '2f586042d52af9fd9986d8e087665a96187aa8e7',\n",
       "   'title': 'Venue Analytics: A Simple Alternative to Citation-Based Metrics'},\n",
       "  {'paperId': '781402fae3a7a44b90855eeba8e96a872347fd4b',\n",
       "   'title': 'Soft Marginal TransE for Scholarly Knowledge Graph Completion'},\n",
       "  {'paperId': 'dd246382988ec1607297bde5f4f4cea75a3f9f6d',\n",
       "   'title': 'CorFish: Coordinating Emphasis Across Multiple Views Using Spatial Distortion'},\n",
       "  {'paperId': 'cb15c1c51e8a7da42d5b2ebac955bf1cd9dd4022',\n",
       "   'title': 'Text Generation from Knowledge Graphs with Graph Transformers'},\n",
       "  {'paperId': '87078d95bee341a1767034d9432fb34937ecf65a',\n",
       "   'title': 'SciBERT: Pretrained Contextualized Embeddings for Scientific Text'},\n",
       "  {'paperId': '827c34613ea75eb817c1d9a945ecb673bb566d85',\n",
       "   'title': 'ReviewerNet: Visualizing Citation and Authorship Relations for Finding Reviewers'},\n",
       "  {'paperId': '156d217b0a911af97fa1b5a71dc909ccef7a8028',\n",
       "   'title': 'SciBERT: A Pretrained Language Model for Scientific Text'},\n",
       "  {'paperId': 'de28ec1d7bd38c8fc4e8ac59b6133800818b4e29',\n",
       "   'title': 'ScispaCy: Fast and Robust Models for Biomedical Natural Language Processing'},\n",
       "  {'paperId': '0cc1befaf72ca96c2a5034d004132da1b7bbc58b',\n",
       "   'title': 'GrapAL: Connecting the Dots in Scientific Literature'},\n",
       "  {'paperId': '4c6dfe48b8b136e6bb44c92e1fa006d3d7bf71ed',\n",
       "   'title': \"GrapAL: Querying Semantic Scholar's Literature Graph\"},\n",
       "  {'paperId': '733f32fe7d7e0b53fb7e9d35dbc6f47b96ebff37',\n",
       "   'title': 'Open Research Knowledge Graph: Next Generation Infrastructure for Semantic Scholarly Knowledge'},\n",
       "  {'paperId': 'a97a18b630032b42c1a1c19db64f3fbf09a1c30b',\n",
       "   'title': 'Open Research Knowledge Graph: Towards Machine Actionability in Scholarly Communication'},\n",
       "  {'paperId': 'dee6eaa08574ad6c480c03d58dab37a788b5ee3f',\n",
       "   'title': 'Exploring the Importance of Entities in Semantic Ranking'},\n",
       "  {'paperId': '7f2667e5f5c327381e20ee4c88b6a0ec89d7857a',\n",
       "   'title': 'Growing Attributed Networks through Local Processes'},\n",
       "  {'paperId': '103c127a86e6ef2df41430cffddcfe260505bfaf',\n",
       "   'title': 'Systematic analysis of testing-related publications concerning comparability and reproducibility'},\n",
       "  {'paperId': '18c8348008226d8a5438734da35ad76e3c3f640c',\n",
       "   'title': 'Story Generation from Knowledge Graphs'},\n",
       "  {'paperId': '89ce63af706dcbda6c4c8ae3012d66d00bfced18',\n",
       "   'title': 'University of Glasgow Terrier Team and Naver Labs Europe at TREC 2019 Fair Ranking Track'},\n",
       "  {'paperId': '58f1e659b9dedeb7704e736aebaf6f6e245559fe',\n",
       "   'title': 'Fair ranking in academic search - Notebook for the TREC 2019 Fair Ranking Track'},\n",
       "  {'paperId': 'e0aaff524db88a3b89d2a736aa297081f13af0c8',\n",
       "   'title': 'A Visualization Tool for Scholarly Data'},\n",
       "  {'paperId': '9bbe5de594c53275e3123417c5636243677649ae',\n",
       "   'title': 'Learning Embeddings from Scientific Corpora using Lexical, Grammatical and Semantic Information'},\n",
       "  {'paperId': None,\n",
       "   'title': 'OutputNeighbor Attention Maps ClassificationInput Document Neighbor Target Neighbor Resnet-50 Backbone Embeddings Attention LayerGenerate Proposals'},\n",
       "  {'paperId': 'd95c203e194a29825e0cd635abd87d1030e776f9',\n",
       "   'title': 'Scalable, Semi-Supervised Extraction of Structured Information from Scientific Literature'},\n",
       "  {'paperId': '7ff0d6253469c02245c1bd321e97a96813b612d4',\n",
       "   'title': 'NaCTeM-UoM @ CL-SciSumm 2019'},\n",
       "  {'paperId': '3bd8093a09fc99562662ce40b24f20e7f1536754',\n",
       "   'title': 'DOES THE INFORMATION-SEEKING BEHAVIOR OF SCIENTISTS CORRESPOND TO EXPLORATORY SEARCH ?'},\n",
       "  {'paperId': 'b21b927c251c415b601b6d7f785a42cc5c292635',\n",
       "   'title': 'Multi-Task Identification of Entities, Relations, and Coreference for Scientific Knowledge Graph Construction'},\n",
       "  {'paperId': 'd449ec41cd3222f9f8b325adfacc8f4b9e7b95d3',\n",
       "   'title': 'Ontology alignment in the biomedical domain using entity definitions and context'},\n",
       "  {'paperId': '0b32918213f6d18c1bc83585a14cfbc6b9039a16',\n",
       "   'title': 'ИССЛЕДОВАТЕЛЬСКИЙ ПОИСК НАУЧНЫХ СТАТЕЙ'},\n",
       "  {'paperId': '2fcbe1e3692b4f5faad41926b781f802f0c1be12',\n",
       "   'title': 'Detecting the Landscapes and Hotspots of Scientometrics : A Full-Text Citation Analysis based on Semantic Technology'},\n",
       "  {'paperId': '88761dffd173cd0e75e88c02d68f866f8cc43c14',\n",
       "   'title': 'Knowledge-based biomedical Data Science'}],\n",
       " 'references': [{'paperId': '1fec9d41d372267b4474f18cbeadd806c8b67adb',\n",
       "   'title': 'Extracting Scientific Figures with Distantly Supervised Neural Networks'},\n",
       "  {'paperId': '921b2958cac4138d188fd5047aa12bbcf37ac867',\n",
       "   'title': 'Content-Based Citation Recommendation'},\n",
       "  {'paperId': '2264e14e35dc5a3db93437bc408a03171af8c59d',\n",
       "   'title': 'The AI2 system at SemEval-2017 Task 10 (ScienceIE): semi-supervised end-to-end entity and relation extraction'},\n",
       "  {'paperId': '74a69228157b3fa1c7adc14e7715039e54f4b067',\n",
       "   'title': 'MetaMap Lite: an evaluation of a new Java implementation of MetaMap'},\n",
       "  {'paperId': '6bed23ebd9998e85bad446b9a56ea53f463d0f8a',\n",
       "   'title': 'Learning to Predict Citation-Based Impact Measures'},\n",
       "  {'paperId': '32ce5467ff884d2f90a233f4d9606c6e18b1a9d6',\n",
       "   'title': 'Learning a Neural Semantic Parser from User Feedback'},\n",
       "  {'paperId': 'a26accf878216be4388ad9a0474e658aa03d33e2',\n",
       "   'title': 'SemEval 2017 Task 10: ScienceIE - Extracting Keyphrases and Relations from Scientific Publications'},\n",
       "  {'paperId': 'b30481dd5467a187b7e1a5a2dd326d97cafd95ac',\n",
       "   'title': 'Explicit Semantic Ranking for Academic Search via Knowledge Graph Embedding'},\n",
       "  {'paperId': '0bb4cadc80c0afaf29c57518dc9c06f8fcfa5f38',\n",
       "   'title': 'Semi-supervised sequence tagging with bidirectional language models'},\n",
       "  {'paperId': '1f6c303718a69f0a74b8dd85ba5dfaf4df08e18d',\n",
       "   'title': 'Swanson linking revisited: Accelerating literature-based discovery across domains using a conceptual influence graph'},\n",
       "  {'paperId': '61322ec6cfc54fe9723d4637239b8fb9938dc501',\n",
       "   'title': 'BioCreative V CDR task corpus: a resource for chemical disease relation extraction'},\n",
       "  {'paperId': '24158c9fc293c8a998ac552b1188404a877da292',\n",
       "   'title': 'Neural Architectures for Named Entity Recognition'},\n",
       "  {'paperId': '8ffcad9346c4978a211566fde6807d6fb4bfa5ed',\n",
       "   'title': 'TabEL: Entity Linking in Web Tables'},\n",
       "  {'paperId': 'c6b53dd64d79a59f49f261baac8d2581a29ca06a',\n",
       "   'title': 'Design Challenges for Entity Linking'},\n",
       "  {'paperId': '1c7be3fc28296a97607d426f9168ad4836407e4b',\n",
       "   'title': 'Identifying Meaningful Citations'},\n",
       "  {'paperId': 'd755a7e943009af26e0a5b617ef60c29c1d4f4e0',\n",
       "   'title': 'CHEMDNER: The drugs and chemical names extraction challenge'},\n",
       "  {'paperId': 'dfb25cf7efec9a7c114f6327e4b06a306cce5cb6',\n",
       "   'title': 'CiteSeerX: AI in a Digital Library Search Engine'},\n",
       "  {'paperId': 'f37e1b62a767a307c046404ca96bc140b3e68cb5',\n",
       "   'title': 'GloVe: Global Vectors for Word Representation'},\n",
       "  {'paperId': '43bfbc53482a83e2141d044493ccbb65a472be55',\n",
       "   'title': 'Clinical review: Efficacy of antimicrobial-impregnated catheters in external ventricular drainage - a systematic review and meta-analysis'},\n",
       "  {'paperId': 'e23020fdab3e46254468f694c159d7d6a3a9fb55',\n",
       "   'title': 'Search needs a shake-up'},\n",
       "  {'paperId': 'bc1022b031dc6c7019696492e8116598097a8c12',\n",
       "   'title': 'Natural Language Processing (Almost) from Scratch'},\n",
       "  {'paperId': 'ecfaab27ac62f6a63146b6d75ae9f9d232abd31b',\n",
       "   'title': 'Exploiting MeSH indexing in MEDLINE to generate a data set for word sense disambiguation'},\n",
       "  {'paperId': 'b18fbdff9b5feac766bd9cde9b266de274d8c4b2',\n",
       "   'title': 'TAGME: on-the-fly annotation of short text fragments (by wikipedia entities)'},\n",
       "  {'paperId': 'd84b57362e2010f6f65357267df7e0157af30684',\n",
       "   'title': 'Distant supervision for relation extraction without labeled data'},\n",
       "  {'paperId': '9f62067945d991cd78a62cf647de17f01d1b54d3',\n",
       "   'title': 'Frustratingly Easy Domain Adaptation'},\n",
       "  {'paperId': '9125de5b8dd7f3a18ef2c5d94c17e552826c006f',\n",
       "   'title': 'Author Disambiguation using Error-driven Machine Learning with a Ranking Loss Function'},\n",
       "  {'paperId': '44d2abe2175df8153f465f6c39b68b76a0d40ab9',\n",
       "   'title': 'Long Short-Term Memory'}]}"
      ]
     },
     "execution_count": 4,
     "metadata": {},
     "output_type": "execute_result"
    }
   ],
   "source": [
    "data.json()"
   ]
  },
  {
   "cell_type": "code",
   "execution_count": 8,
   "metadata": {},
   "outputs": [
    {
     "ename": "HTTPError",
     "evalue": "HTTP Error 406: Not Acceptable",
     "output_type": "error",
     "traceback": [
      "\u001b[0;31m---------------------------------------------------------------------------\u001b[0m",
      "\u001b[0;31mHTTPError\u001b[0m                                 Traceback (most recent call last)",
      "\u001b[0;32m/tmp/ipykernel_292010/2508351718.py\u001b[0m in \u001b[0;36m<module>\u001b[0;34m\u001b[0m\n\u001b[1;32m      1\u001b[0m \u001b[0;32mimport\u001b[0m \u001b[0murllib\u001b[0m\u001b[0;34m.\u001b[0m\u001b[0mrequest\u001b[0m\u001b[0;34m\u001b[0m\u001b[0;34m\u001b[0m\u001b[0m\n\u001b[0;32m----> 2\u001b[0;31m \u001b[0murllib\u001b[0m\u001b[0;34m.\u001b[0m\u001b[0mrequest\u001b[0m\u001b[0;34m.\u001b[0m\u001b[0murlretrieve\u001b[0m\u001b[0;34m(\u001b[0m\u001b[0mdata\u001b[0m\u001b[0;34m.\u001b[0m\u001b[0mjson\u001b[0m\u001b[0;34m(\u001b[0m\u001b[0;34m)\u001b[0m\u001b[0;34m[\u001b[0m\u001b[0;34m'openAccessPdf'\u001b[0m\u001b[0;34m]\u001b[0m\u001b[0;34m[\u001b[0m\u001b[0;34m'url'\u001b[0m\u001b[0;34m]\u001b[0m\u001b[0;34m,\u001b[0m \u001b[0;34m'test.pdf'\u001b[0m\u001b[0;34m)\u001b[0m\u001b[0;34m\u001b[0m\u001b[0;34m\u001b[0m\u001b[0m\n\u001b[0m",
      "\u001b[0;32m/export/scratch/Zeren/conda/envs/RetMol/lib/python3.7/urllib/request.py\u001b[0m in \u001b[0;36murlretrieve\u001b[0;34m(url, filename, reporthook, data)\u001b[0m\n\u001b[1;32m    245\u001b[0m     \u001b[0murl_type\u001b[0m\u001b[0;34m,\u001b[0m \u001b[0mpath\u001b[0m \u001b[0;34m=\u001b[0m \u001b[0msplittype\u001b[0m\u001b[0;34m(\u001b[0m\u001b[0murl\u001b[0m\u001b[0;34m)\u001b[0m\u001b[0;34m\u001b[0m\u001b[0;34m\u001b[0m\u001b[0m\n\u001b[1;32m    246\u001b[0m \u001b[0;34m\u001b[0m\u001b[0m\n\u001b[0;32m--> 247\u001b[0;31m     \u001b[0;32mwith\u001b[0m \u001b[0mcontextlib\u001b[0m\u001b[0;34m.\u001b[0m\u001b[0mclosing\u001b[0m\u001b[0;34m(\u001b[0m\u001b[0murlopen\u001b[0m\u001b[0;34m(\u001b[0m\u001b[0murl\u001b[0m\u001b[0;34m,\u001b[0m \u001b[0mdata\u001b[0m\u001b[0;34m)\u001b[0m\u001b[0;34m)\u001b[0m \u001b[0;32mas\u001b[0m \u001b[0mfp\u001b[0m\u001b[0;34m:\u001b[0m\u001b[0;34m\u001b[0m\u001b[0;34m\u001b[0m\u001b[0m\n\u001b[0m\u001b[1;32m    248\u001b[0m         \u001b[0mheaders\u001b[0m \u001b[0;34m=\u001b[0m \u001b[0mfp\u001b[0m\u001b[0;34m.\u001b[0m\u001b[0minfo\u001b[0m\u001b[0;34m(\u001b[0m\u001b[0;34m)\u001b[0m\u001b[0;34m\u001b[0m\u001b[0;34m\u001b[0m\u001b[0m\n\u001b[1;32m    249\u001b[0m \u001b[0;34m\u001b[0m\u001b[0m\n",
      "\u001b[0;32m/export/scratch/Zeren/conda/envs/RetMol/lib/python3.7/urllib/request.py\u001b[0m in \u001b[0;36murlopen\u001b[0;34m(url, data, timeout, cafile, capath, cadefault, context)\u001b[0m\n\u001b[1;32m    220\u001b[0m     \u001b[0;32melse\u001b[0m\u001b[0;34m:\u001b[0m\u001b[0;34m\u001b[0m\u001b[0;34m\u001b[0m\u001b[0m\n\u001b[1;32m    221\u001b[0m         \u001b[0mopener\u001b[0m \u001b[0;34m=\u001b[0m \u001b[0m_opener\u001b[0m\u001b[0;34m\u001b[0m\u001b[0;34m\u001b[0m\u001b[0m\n\u001b[0;32m--> 222\u001b[0;31m     \u001b[0;32mreturn\u001b[0m \u001b[0mopener\u001b[0m\u001b[0;34m.\u001b[0m\u001b[0mopen\u001b[0m\u001b[0;34m(\u001b[0m\u001b[0murl\u001b[0m\u001b[0;34m,\u001b[0m \u001b[0mdata\u001b[0m\u001b[0;34m,\u001b[0m \u001b[0mtimeout\u001b[0m\u001b[0;34m)\u001b[0m\u001b[0;34m\u001b[0m\u001b[0;34m\u001b[0m\u001b[0m\n\u001b[0m\u001b[1;32m    223\u001b[0m \u001b[0;34m\u001b[0m\u001b[0m\n\u001b[1;32m    224\u001b[0m \u001b[0;32mdef\u001b[0m \u001b[0minstall_opener\u001b[0m\u001b[0;34m(\u001b[0m\u001b[0mopener\u001b[0m\u001b[0;34m)\u001b[0m\u001b[0;34m:\u001b[0m\u001b[0;34m\u001b[0m\u001b[0;34m\u001b[0m\u001b[0m\n",
      "\u001b[0;32m/export/scratch/Zeren/conda/envs/RetMol/lib/python3.7/urllib/request.py\u001b[0m in \u001b[0;36mopen\u001b[0;34m(self, fullurl, data, timeout)\u001b[0m\n\u001b[1;32m    529\u001b[0m         \u001b[0;32mfor\u001b[0m \u001b[0mprocessor\u001b[0m \u001b[0;32min\u001b[0m \u001b[0mself\u001b[0m\u001b[0;34m.\u001b[0m\u001b[0mprocess_response\u001b[0m\u001b[0;34m.\u001b[0m\u001b[0mget\u001b[0m\u001b[0;34m(\u001b[0m\u001b[0mprotocol\u001b[0m\u001b[0;34m,\u001b[0m \u001b[0;34m[\u001b[0m\u001b[0;34m]\u001b[0m\u001b[0;34m)\u001b[0m\u001b[0;34m:\u001b[0m\u001b[0;34m\u001b[0m\u001b[0;34m\u001b[0m\u001b[0m\n\u001b[1;32m    530\u001b[0m             \u001b[0mmeth\u001b[0m \u001b[0;34m=\u001b[0m \u001b[0mgetattr\u001b[0m\u001b[0;34m(\u001b[0m\u001b[0mprocessor\u001b[0m\u001b[0;34m,\u001b[0m \u001b[0mmeth_name\u001b[0m\u001b[0;34m)\u001b[0m\u001b[0;34m\u001b[0m\u001b[0;34m\u001b[0m\u001b[0m\n\u001b[0;32m--> 531\u001b[0;31m             \u001b[0mresponse\u001b[0m \u001b[0;34m=\u001b[0m \u001b[0mmeth\u001b[0m\u001b[0;34m(\u001b[0m\u001b[0mreq\u001b[0m\u001b[0;34m,\u001b[0m \u001b[0mresponse\u001b[0m\u001b[0;34m)\u001b[0m\u001b[0;34m\u001b[0m\u001b[0;34m\u001b[0m\u001b[0m\n\u001b[0m\u001b[1;32m    532\u001b[0m \u001b[0;34m\u001b[0m\u001b[0m\n\u001b[1;32m    533\u001b[0m         \u001b[0;32mreturn\u001b[0m \u001b[0mresponse\u001b[0m\u001b[0;34m\u001b[0m\u001b[0;34m\u001b[0m\u001b[0m\n",
      "\u001b[0;32m/export/scratch/Zeren/conda/envs/RetMol/lib/python3.7/urllib/request.py\u001b[0m in \u001b[0;36mhttp_response\u001b[0;34m(self, request, response)\u001b[0m\n\u001b[1;32m    639\u001b[0m         \u001b[0;32mif\u001b[0m \u001b[0;32mnot\u001b[0m \u001b[0;34m(\u001b[0m\u001b[0;36m200\u001b[0m \u001b[0;34m<=\u001b[0m \u001b[0mcode\u001b[0m \u001b[0;34m<\u001b[0m \u001b[0;36m300\u001b[0m\u001b[0;34m)\u001b[0m\u001b[0;34m:\u001b[0m\u001b[0;34m\u001b[0m\u001b[0;34m\u001b[0m\u001b[0m\n\u001b[1;32m    640\u001b[0m             response = self.parent.error(\n\u001b[0;32m--> 641\u001b[0;31m                 'http', request, response, code, msg, hdrs)\n\u001b[0m\u001b[1;32m    642\u001b[0m \u001b[0;34m\u001b[0m\u001b[0m\n\u001b[1;32m    643\u001b[0m         \u001b[0;32mreturn\u001b[0m \u001b[0mresponse\u001b[0m\u001b[0;34m\u001b[0m\u001b[0;34m\u001b[0m\u001b[0m\n",
      "\u001b[0;32m/export/scratch/Zeren/conda/envs/RetMol/lib/python3.7/urllib/request.py\u001b[0m in \u001b[0;36merror\u001b[0;34m(self, proto, *args)\u001b[0m\n\u001b[1;32m    567\u001b[0m         \u001b[0;32mif\u001b[0m \u001b[0mhttp_err\u001b[0m\u001b[0;34m:\u001b[0m\u001b[0;34m\u001b[0m\u001b[0;34m\u001b[0m\u001b[0m\n\u001b[1;32m    568\u001b[0m             \u001b[0margs\u001b[0m \u001b[0;34m=\u001b[0m \u001b[0;34m(\u001b[0m\u001b[0mdict\u001b[0m\u001b[0;34m,\u001b[0m \u001b[0;34m'default'\u001b[0m\u001b[0;34m,\u001b[0m \u001b[0;34m'http_error_default'\u001b[0m\u001b[0;34m)\u001b[0m \u001b[0;34m+\u001b[0m \u001b[0morig_args\u001b[0m\u001b[0;34m\u001b[0m\u001b[0;34m\u001b[0m\u001b[0m\n\u001b[0;32m--> 569\u001b[0;31m             \u001b[0;32mreturn\u001b[0m \u001b[0mself\u001b[0m\u001b[0;34m.\u001b[0m\u001b[0m_call_chain\u001b[0m\u001b[0;34m(\u001b[0m\u001b[0;34m*\u001b[0m\u001b[0margs\u001b[0m\u001b[0;34m)\u001b[0m\u001b[0;34m\u001b[0m\u001b[0;34m\u001b[0m\u001b[0m\n\u001b[0m\u001b[1;32m    570\u001b[0m \u001b[0;34m\u001b[0m\u001b[0m\n\u001b[1;32m    571\u001b[0m \u001b[0;31m# XXX probably also want an abstract factory that knows when it makes\u001b[0m\u001b[0;34m\u001b[0m\u001b[0;34m\u001b[0m\u001b[0;34m\u001b[0m\u001b[0m\n",
      "\u001b[0;32m/export/scratch/Zeren/conda/envs/RetMol/lib/python3.7/urllib/request.py\u001b[0m in \u001b[0;36m_call_chain\u001b[0;34m(self, chain, kind, meth_name, *args)\u001b[0m\n\u001b[1;32m    501\u001b[0m         \u001b[0;32mfor\u001b[0m \u001b[0mhandler\u001b[0m \u001b[0;32min\u001b[0m \u001b[0mhandlers\u001b[0m\u001b[0;34m:\u001b[0m\u001b[0;34m\u001b[0m\u001b[0;34m\u001b[0m\u001b[0m\n\u001b[1;32m    502\u001b[0m             \u001b[0mfunc\u001b[0m \u001b[0;34m=\u001b[0m \u001b[0mgetattr\u001b[0m\u001b[0;34m(\u001b[0m\u001b[0mhandler\u001b[0m\u001b[0;34m,\u001b[0m \u001b[0mmeth_name\u001b[0m\u001b[0;34m)\u001b[0m\u001b[0;34m\u001b[0m\u001b[0;34m\u001b[0m\u001b[0m\n\u001b[0;32m--> 503\u001b[0;31m             \u001b[0mresult\u001b[0m \u001b[0;34m=\u001b[0m \u001b[0mfunc\u001b[0m\u001b[0;34m(\u001b[0m\u001b[0;34m*\u001b[0m\u001b[0margs\u001b[0m\u001b[0;34m)\u001b[0m\u001b[0;34m\u001b[0m\u001b[0;34m\u001b[0m\u001b[0m\n\u001b[0m\u001b[1;32m    504\u001b[0m             \u001b[0;32mif\u001b[0m \u001b[0mresult\u001b[0m \u001b[0;32mis\u001b[0m \u001b[0;32mnot\u001b[0m \u001b[0;32mNone\u001b[0m\u001b[0;34m:\u001b[0m\u001b[0;34m\u001b[0m\u001b[0;34m\u001b[0m\u001b[0m\n\u001b[1;32m    505\u001b[0m                 \u001b[0;32mreturn\u001b[0m \u001b[0mresult\u001b[0m\u001b[0;34m\u001b[0m\u001b[0;34m\u001b[0m\u001b[0m\n",
      "\u001b[0;32m/export/scratch/Zeren/conda/envs/RetMol/lib/python3.7/urllib/request.py\u001b[0m in \u001b[0;36mhttp_error_default\u001b[0;34m(self, req, fp, code, msg, hdrs)\u001b[0m\n\u001b[1;32m    647\u001b[0m \u001b[0;32mclass\u001b[0m \u001b[0mHTTPDefaultErrorHandler\u001b[0m\u001b[0;34m(\u001b[0m\u001b[0mBaseHandler\u001b[0m\u001b[0;34m)\u001b[0m\u001b[0;34m:\u001b[0m\u001b[0;34m\u001b[0m\u001b[0;34m\u001b[0m\u001b[0m\n\u001b[1;32m    648\u001b[0m     \u001b[0;32mdef\u001b[0m \u001b[0mhttp_error_default\u001b[0m\u001b[0;34m(\u001b[0m\u001b[0mself\u001b[0m\u001b[0;34m,\u001b[0m \u001b[0mreq\u001b[0m\u001b[0;34m,\u001b[0m \u001b[0mfp\u001b[0m\u001b[0;34m,\u001b[0m \u001b[0mcode\u001b[0m\u001b[0;34m,\u001b[0m \u001b[0mmsg\u001b[0m\u001b[0;34m,\u001b[0m \u001b[0mhdrs\u001b[0m\u001b[0;34m)\u001b[0m\u001b[0;34m:\u001b[0m\u001b[0;34m\u001b[0m\u001b[0;34m\u001b[0m\u001b[0m\n\u001b[0;32m--> 649\u001b[0;31m         \u001b[0;32mraise\u001b[0m \u001b[0mHTTPError\u001b[0m\u001b[0;34m(\u001b[0m\u001b[0mreq\u001b[0m\u001b[0;34m.\u001b[0m\u001b[0mfull_url\u001b[0m\u001b[0;34m,\u001b[0m \u001b[0mcode\u001b[0m\u001b[0;34m,\u001b[0m \u001b[0mmsg\u001b[0m\u001b[0;34m,\u001b[0m \u001b[0mhdrs\u001b[0m\u001b[0;34m,\u001b[0m \u001b[0mfp\u001b[0m\u001b[0;34m)\u001b[0m\u001b[0;34m\u001b[0m\u001b[0;34m\u001b[0m\u001b[0m\n\u001b[0m\u001b[1;32m    650\u001b[0m \u001b[0;34m\u001b[0m\u001b[0m\n\u001b[1;32m    651\u001b[0m \u001b[0;32mclass\u001b[0m \u001b[0mHTTPRedirectHandler\u001b[0m\u001b[0;34m(\u001b[0m\u001b[0mBaseHandler\u001b[0m\u001b[0;34m)\u001b[0m\u001b[0;34m:\u001b[0m\u001b[0;34m\u001b[0m\u001b[0;34m\u001b[0m\u001b[0m\n",
      "\u001b[0;31mHTTPError\u001b[0m: HTTP Error 406: Not Acceptable"
     ]
    }
   ],
   "source": [
    "import urllib.request\n",
    "urllib.request.urlretrieve(data.json()['openAccessPdf']['url'], 'test.pdf')"
   ]
  },
  {
   "cell_type": "code",
   "execution_count": 11,
   "metadata": {},
   "outputs": [
    {
     "data": {
      "text/plain": [
       "'test (1).pdf'"
      ]
     },
     "execution_count": 11,
     "metadata": {},
     "output_type": "execute_result"
    }
   ],
   "source": [
    "wget.download('https://export.arxiv.org/pdf/2009.12710.pdf', 'test.pdf')"
   ]
  },
  {
   "cell_type": "code",
   "execution_count": 36,
   "metadata": {},
   "outputs": [
    {
     "data": {
      "text/plain": [
       "3488"
      ]
     },
     "execution_count": 36,
     "metadata": {},
     "output_type": "execute_result"
    }
   ],
   "source": [
    "workfolder = '/export/scratch/zeren/Papers2json/DeepCiteAll/'\n",
    "filename = os.path.join(workfolder, 'openkim-model-citations/outputs/citing_papers.json')\n",
    "citations = json.load(open(filename, 'r'))\n",
    "\n",
    "citing_papers = {}\n",
    "for cited_doi, c in citations.items():\n",
    "    for citing_paper in c['citing_papers']:\n",
    "        citing_doi = citing_paper['citing_doi']\n",
    "\n",
    "        if citing_doi in citing_papers:\n",
    "            citing_papers[citing_doi] += 1\n",
    "        else:\n",
    "            citing_papers[citing_doi] = 1\n",
    "citing_papers.pop(None)"
   ]
  },
  {
   "cell_type": "code",
   "execution_count": 33,
   "metadata": {},
   "outputs": [],
   "source": [
    "publishers = [\n",
    "    'acs',\n",
    "    'aip',\n",
    "    'iop',\n",
    "    'rsc',\n",
    "    'springer',\n",
    "    'taylor_and_francis',\n",
    "    'wiley',\n",
    "    'unpaywall',\n",
    "    'elsevier'\n",
    "]\n",
    "\n",
    "def get_doi_filename(publisher):\n",
    "    return os.path.join(\n",
    "        workfolder, 'deep-citation-additional-papers/inputs/{}/doi_to_shasum.txt'.format(publisher)\n",
    "    )\n",
    "\n",
    "def get_dois(publisher):\n",
    "    doi_filename = get_doi_filename(publisher)\n",
    "\n",
    "    with open(doi_filename, 'r') as f:\n",
    "        doi_shasum_list = f.readlines()\n",
    "    \n",
    "    dois = []\n",
    "    shasums = []\n",
    "    for line in doi_shasum_list:\n",
    "        dois.append(list(literal_eval(line).keys())[0])\n",
    "        shasums.append(list(literal_eval(line).values())[0])\n",
    "    return dois, shasums\n",
    "\n",
    "Dois = []\n",
    "Shasums = []\n",
    "for p in publishers:\n",
    "    dois, shasums = get_dois(p)\n",
    "\n",
    "    Dois += dois\n",
    "    Shasums += shasums\n",
    "citing_doi_with_pdf = list(set(Dois))"
   ]
  },
  {
   "cell_type": "code",
   "execution_count": 37,
   "metadata": {},
   "outputs": [],
   "source": [
    "citing_doi_wo_pdf = np.setdiff1d(list(citing_papers.keys()), citing_doi_with_pdf)"
   ]
  },
  {
   "cell_type": "code",
   "execution_count": 46,
   "metadata": {},
   "outputs": [
    {
     "data": {
      "text/plain": [
       "13340"
      ]
     },
     "execution_count": 46,
     "metadata": {},
     "output_type": "execute_result"
    }
   ],
   "source": [
    "len(citing_doi_wo_pdf)"
   ]
  },
  {
   "cell_type": "code",
   "execution_count": 61,
   "metadata": {},
   "outputs": [
    {
     "name": "stderr",
     "output_type": "stream",
     "text": [
      "100%|██████████| 13340/13340 [28:37<00:00,  7.77it/s] \n"
     ]
    }
   ],
   "source": [
    "hasOpenAccess = []\n",
    "OpenAccessUrls = []\n",
    "hasArxivAccess = []\n",
    "\n",
    "for doi in tqdm(citing_doi_wo_pdf):\n",
    "    url = 'https://api.semanticscholar.org/graph/v1/paper/DOI:{}?fields=isOpenAccess,openAccessPdf'.format(doi)\n",
    "\n",
    "    data = requests.get(url)\n",
    "    \n",
    "    if data.status_code == 200:\n",
    "        data = data.json()\n",
    "        if data['isOpenAccess']:\n",
    "            hasOpenAccess.append(doi)\n",
    "            pdf_url = data['openAccessPdf']['url']\n",
    "            OpenAccessUrls.append(pdf_url)\n",
    "            if 'arxiv' in pdf_url:\n",
    "                hasArxivAccess.append(doi)"
   ]
  },
  {
   "cell_type": "code",
   "execution_count": 67,
   "metadata": {},
   "outputs": [
    {
     "data": {
      "text/plain": [
       "28955"
      ]
     },
     "execution_count": 67,
     "metadata": {},
     "output_type": "execute_result"
    }
   ],
   "source": [
    "len(citing_papers), len()"
   ]
  },
  {
   "cell_type": "code",
   "execution_count": 63,
   "metadata": {},
   "outputs": [
    {
     "data": {
      "text/plain": [
       "(39, 7)"
      ]
     },
     "execution_count": 63,
     "metadata": {},
     "output_type": "execute_result"
    }
   ],
   "source": [
    "len(hasOpenAccess), len(hasArxivAccess)"
   ]
  },
  {
   "cell_type": "code",
   "execution_count": 66,
   "metadata": {},
   "outputs": [
    {
     "data": {
      "text/plain": [
       "['http://www.homepages.ucl.ac.uk/~ucfbdxa/pubblicazioni/ijqc.pdf',\n",
       " 'http://arxiv.org/pdf/cond-mat/0107195',\n",
       " 'http://arxiv.org/pdf/cond-mat/0003232',\n",
       " 'http://dspace.lib.cranfield.ac.uk/bitstream/1826/8722/1/Microsoft%20Word%20-%20oxide%20nanomaterials.pdf',\n",
       " 'http://arxiv.org/pdf/1604.07959',\n",
       " 'https://onlinelibrary.wiley.com/doi/pdfdirect/10.1002/9781119176817.ecm2107',\n",
       " 'https://digital.csic.es/bitstream/10261/97383/1/Modeling%20the%20properties%20of%20carbon.pdf',\n",
       " 'https://infoscience.epfl.ch/record/133949/files/paper_426.pdf',\n",
       " 'http://arxiv.org/pdf/1211.5036',\n",
       " 'https://onlinelibrary.wiley.com/doi/pdfdirect/10.1002/adem.202000207',\n",
       " 'https://onlinelibrary.wiley.com/doi/pdfdirect/10.1002/adfm.201504085',\n",
       " 'https://onlinelibrary.wiley.com/doi/pdfdirect/10.1002/adfm.202104250',\n",
       " 'https://rss.onlinelibrary.wiley.com/doi/am-pdf/10.1002/adma.201603009',\n",
       " 'http://arxiv.org/pdf/1805.06163',\n",
       " 'https://rss.onlinelibrary.wiley.com/doi/am-pdf/10.1002/adma.201802306',\n",
       " 'https://onlinelibrary.wiley.com/doi/pdfdirect/10.1002/adma.202102807',\n",
       " 'https://eprints.whiterose.ac.uk/83834/1/admi201400078.pdf',\n",
       " 'https://eprints.qut.edu.au/212576/1/94454995.pdf',\n",
       " 'https://onlinelibrary.wiley.com/doi/pdf/10.1002/adts.201800035',\n",
       " 'https://dspace.mit.edu/bitstream/1721.1/140974.2/4/10.1002-adts.201800047.pdf',\n",
       " 'https://onlinelibrary.wiley.com/doi/pdf/10.1002/adts.201800065',\n",
       " 'https://onlinelibrary.wiley.com/doi/pdf/10.1002/adts.201800097',\n",
       " 'https://onlinelibrary.wiley.com/doi/pdfdirect/10.1002/adts.201900013',\n",
       " 'https://onlinelibrary.wiley.com/doi/pdf/10.1002/adts.201900056',\n",
       " 'https://onlinelibrary.wiley.com/doi/pdfdirect/10.1002/adts.201900135',\n",
       " 'https://research.aalto.fi/files/41462287/ENG_Gallo_On_the_crack_tip_Advanced_theory_and_simulation.pdf',\n",
       " 'http://arxiv.org/pdf/1909.11331',\n",
       " 'https://oist.repo.nii.ac.jp/?action=repository_action_common_download&item_id=1974&item_no=1&attribute_id=22&file_no=1',\n",
       " 'https://research.chalmers.se/publication/522265/file/522265_Fulltext.pdf',\n",
       " 'https://onlinelibrary.wiley.com/doi/pdfdirect/10.1002/adts.202100093',\n",
       " 'https://onlinelibrary.wiley.com/doi/pdfdirect/10.1002/advs.201600467',\n",
       " 'https://onlinelibrary.wiley.com/doi/pdfdirect/10.1002/advs.201900808',\n",
       " 'http://deepblue.lib.umich.edu/bitstream/2027.42/144583/2/aic16198_am.pdf',\n",
       " 'http://arxiv.org/pdf/1809.06118',\n",
       " 'https://onlinelibrary.wiley.com/doi/pdfdirect/10.1002/anie.201902625',\n",
       " 'https://re.public.polimi.it/bitstream/11311/1189182/1/2014_From%20the%20Lindlar%20Catalyst%20to%20Supported%20Ligand-Modified.pdf',\n",
       " 'http://diposit.ub.edu/dspace/bitstream/2445/184588/1/685095.pdf',\n",
       " 'https://onlinelibrary.wiley.com/doi/pdfdirect/10.1002/cphc.201700151',\n",
       " 'https://www.differ.nl/sites/default/files/attachments/biblio/2016_64776.pdf']"
      ]
     },
     "execution_count": 66,
     "metadata": {},
     "output_type": "execute_result"
    }
   ],
   "source": [
    "OpenAccessUrls"
   ]
  },
  {
   "cell_type": "code",
   "execution_count": 60,
   "metadata": {},
   "outputs": [
    {
     "data": {
      "text/plain": [
       "404"
      ]
     },
     "execution_count": 60,
     "metadata": {},
     "output_type": "execute_result"
    }
   ],
   "source": [
    "requests.get(url).status_code"
   ]
  },
  {
   "cell_type": "code",
   "execution_count": null,
   "metadata": {},
   "outputs": [],
   "source": []
  }
 ],
 "metadata": {
  "kernelspec": {
   "display_name": "RetMol",
   "language": "python",
   "name": "python3"
  },
  "language_info": {
   "codemirror_mode": {
    "name": "ipython",
    "version": 3
   },
   "file_extension": ".py",
   "mimetype": "text/x-python",
   "name": "python",
   "nbconvert_exporter": "python",
   "pygments_lexer": "ipython3",
   "version": "3.7.7"
  },
  "orig_nbformat": 4,
  "vscode": {
   "interpreter": {
    "hash": "f3084c3680b40a69d1fdbeb84d5e0f5cb3bb28a5bf0b46e3cf33cca26ba60064"
   }
  }
 },
 "nbformat": 4,
 "nbformat_minor": 2
}
